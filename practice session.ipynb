{
 "cells": [
  {
   "cell_type": "code",
   "execution_count": null,
   "id": "657db0c5",
   "metadata": {},
   "outputs": [],
   "source": [
    "#PROGRAM 1\n",
    "# ANAGRAM\n",
    "def func(string1,string2):\n",
    "    if len(string1)==len(string2):\n",
    "        if sorted(string1)==sorted(string2):\n",
    "            print('It is a Anagram')\n",
    "        else:\n",
    "            print('Not a Anagram')\n",
    "    else:\n",
    "        print('Not a Anagram')\n"
   ]
  },
  {
   "cell_type": "code",
   "execution_count": 29,
   "id": "55ba62dc",
   "metadata": {},
   "outputs": [
    {
     "name": "stdout",
     "output_type": "stream",
     "text": [
      "It is a Anagram\n"
     ]
    }
   ],
   "source": [
    "func(\"race\",\"care\")"
   ]
  },
  {
   "cell_type": "code",
   "execution_count": 30,
   "id": "8950783d",
   "metadata": {},
   "outputs": [
    {
     "name": "stdout",
     "output_type": "stream",
     "text": [
      "It is a Anagram\n"
     ]
    }
   ],
   "source": [
    "func(\"Akash\",\"shaAk\")"
   ]
  },
  {
   "cell_type": "code",
   "execution_count": 32,
   "id": "da44527d",
   "metadata": {},
   "outputs": [],
   "source": [
    "#PROGRAM 2\n",
    "#TO GET LIST OF PALINDROMES\n",
    "def my_func(msg):\n",
    "    res=msg.split()\n",
    "    l=[]\n",
    "    for i in range(0,len(res)):\n",
    "        if res[i]==res[i][::-1]:\n",
    "            l.append(res[i])\n",
    "    print(l)\n",
    "    print(len(l))"
   ]
  },
  {
   "cell_type": "code",
   "execution_count": 33,
   "id": "56608386",
   "metadata": {},
   "outputs": [
    {
     "name": "stdout",
     "output_type": "stream",
     "text": [
      "['nursesrun', 'mom', 'dad', 'pap']\n",
      "4\n"
     ]
    }
   ],
   "source": [
    "my_func(\"nursesrun for their mom and dad because they love them pap\")"
   ]
  },
  {
   "cell_type": "code",
   "execution_count": 79,
   "id": "89e0cf0b",
   "metadata": {},
   "outputs": [],
   "source": [
    "#PROGRAM 3\n",
    "# Creating our own decorator\n",
    "def outer(fn):\n",
    "    def inner(*args,**kwargs):\n",
    "        print(\"within inner function\")\n",
    "        print(\"Decorating with some more functionality\")\n",
    "        return fn(*args,**kwargs)\n",
    "    return inner"
   ]
  },
  {
   "cell_type": "code",
   "execution_count": 80,
   "id": "5dcf6447",
   "metadata": {},
   "outputs": [],
   "source": [
    "@outer\n",
    "def add(a,b):\n",
    "    print(a+b) \n",
    "\n"
   ]
  },
  {
   "cell_type": "code",
   "execution_count": 81,
   "id": "f65ee13c",
   "metadata": {},
   "outputs": [
    {
     "name": "stdout",
     "output_type": "stream",
     "text": [
      "within inner function\n",
      "Decorating with some more functionality\n",
      "5\n"
     ]
    }
   ],
   "source": [
    "add(2,3)"
   ]
  },
  {
   "cell_type": "code",
   "execution_count": 82,
   "id": "a014c983",
   "metadata": {},
   "outputs": [
    {
     "ename": "TypeError",
     "evalue": "outer() takes 1 positional argument but 2 were given",
     "output_type": "error",
     "traceback": [
      "\u001b[1;31m---------------------------------------------------------------------------\u001b[0m",
      "\u001b[1;31mTypeError\u001b[0m                                 Traceback (most recent call last)",
      "\u001b[1;32m~\\AppData\\Local\\Temp/ipykernel_26020/1186025918.py\u001b[0m in \u001b[0;36m<module>\u001b[1;34m\u001b[0m\n\u001b[1;32m----> 1\u001b[1;33m \u001b[0mouter\u001b[0m\u001b[1;33m(\u001b[0m\u001b[1;36m2\u001b[0m\u001b[1;33m,\u001b[0m\u001b[1;36m1\u001b[0m\u001b[1;33m)\u001b[0m\u001b[1;33m\u001b[0m\u001b[1;33m\u001b[0m\u001b[0m\n\u001b[0m",
      "\u001b[1;31mTypeError\u001b[0m: outer() takes 1 positional argument but 2 were given"
     ]
    }
   ],
   "source": [
    "outer(2,1)"
   ]
  },
  {
   "cell_type": "code",
   "execution_count": 91,
   "id": "25ba141b",
   "metadata": {},
   "outputs": [],
   "source": [
    "# another way to decorate a func \n",
    "def mul(x,y):\n",
    "    return x*y\n",
    "mul = outer(mul)"
   ]
  },
  {
   "cell_type": "code",
   "execution_count": 92,
   "id": "fe1bf41d",
   "metadata": {},
   "outputs": [
    {
     "data": {
      "text/plain": [
       "<function __main__.outer.<locals>.inner(*args, **kwargs)>"
      ]
     },
     "execution_count": 92,
     "metadata": {},
     "output_type": "execute_result"
    }
   ],
   "source": [
    "mul"
   ]
  },
  {
   "cell_type": "code",
   "execution_count": 93,
   "id": "1fdbbbcf",
   "metadata": {},
   "outputs": [
    {
     "data": {
      "text/plain": [
       "<function __main__.outer(fn)>"
      ]
     },
     "execution_count": 93,
     "metadata": {},
     "output_type": "execute_result"
    }
   ],
   "source": [
    "outer"
   ]
  },
  {
   "cell_type": "code",
   "execution_count": 94,
   "id": "496dedbf",
   "metadata": {},
   "outputs": [
    {
     "name": "stdout",
     "output_type": "stream",
     "text": [
      "within inner function\n",
      "Decorating with some more functionality\n"
     ]
    },
    {
     "data": {
      "text/plain": [
       "6"
      ]
     },
     "execution_count": 94,
     "metadata": {},
     "output_type": "execute_result"
    }
   ],
   "source": [
    "mul(2,3)"
   ]
  },
  {
   "cell_type": "code",
   "execution_count": 212,
   "id": "8069114d",
   "metadata": {},
   "outputs": [],
   "source": [
    "#PROGRAM 4\n",
    "#closures\n",
    "def counter(fn):#fn is also a free variable\n",
    "    count=0 # free variable\n",
    "    def inner(*args,**kwargs):\n",
    "        nonlocal count\n",
    "        count+=1\n",
    "        print('within inner')\n",
    "        print(f'The function {fn.__name__} has been called {count} times.')\n",
    "        return fn(*args,**kwargs)\n",
    "    return inner"
   ]
  },
  {
   "cell_type": "code",
   "execution_count": 213,
   "id": "7ecfc448",
   "metadata": {},
   "outputs": [],
   "source": [
    "def sub(m,n):\n",
    "    return m-n"
   ]
  },
  {
   "cell_type": "code",
   "execution_count": 214,
   "id": "70f4782f",
   "metadata": {},
   "outputs": [],
   "source": [
    "counter = counter(sub)"
   ]
  },
  {
   "cell_type": "code",
   "execution_count": 215,
   "id": "32cd4ce7",
   "metadata": {},
   "outputs": [
    {
     "data": {
      "text/plain": [
       "(<cell at 0x00000212793813D0: int object at 0x00000212745A6910>,\n",
       " <cell at 0x0000021279381A60: function object at 0x00000212793A9CA0>)"
      ]
     },
     "execution_count": 215,
     "metadata": {},
     "output_type": "execute_result"
    }
   ],
   "source": [
    "counter.__closure__"
   ]
  },
  {
   "cell_type": "code",
   "execution_count": 216,
   "id": "c249eb43",
   "metadata": {},
   "outputs": [
    {
     "name": "stdout",
     "output_type": "stream",
     "text": [
      "within inner\n",
      "The function sub has been called 1 times.\n"
     ]
    },
    {
     "data": {
      "text/plain": [
       "3"
      ]
     },
     "execution_count": 216,
     "metadata": {},
     "output_type": "execute_result"
    }
   ],
   "source": [
    "counter(5,2)"
   ]
  },
  {
   "cell_type": "code",
   "execution_count": 219,
   "id": "8bcf1768",
   "metadata": {},
   "outputs": [
    {
     "data": {
      "text/plain": [
       "('count', 'fn')"
      ]
     },
     "execution_count": 219,
     "metadata": {},
     "output_type": "execute_result"
    }
   ],
   "source": [
    "counter.__code__.co_freevars"
   ]
  },
  {
   "cell_type": "code",
   "execution_count": 218,
   "id": "1bff866b",
   "metadata": {},
   "outputs": [],
   "source": [
    "string=\"MOUNTAIN\""
   ]
  },
  {
   "cell_type": "code",
   "execution_count": 108,
   "id": "313f7ba7",
   "metadata": {},
   "outputs": [
    {
     "data": {
      "text/plain": [
       "'M'"
      ]
     },
     "execution_count": 108,
     "metadata": {},
     "output_type": "execute_result"
    }
   ],
   "source": [
    "string[0]"
   ]
  },
  {
   "cell_type": "code",
   "execution_count": 112,
   "id": "ae2499b9",
   "metadata": {},
   "outputs": [],
   "source": [
    "#PROGRAM 5\n",
    "#string to list\n",
    "def func(string):\n",
    "    l=[]\n",
    "    for i in string:\n",
    "        l.append(i)\n",
    "    print(l)"
   ]
  },
  {
   "cell_type": "code",
   "execution_count": 113,
   "id": "cea82d74",
   "metadata": {},
   "outputs": [
    {
     "name": "stdout",
     "output_type": "stream",
     "text": [
      "['M', 'O', 'U', 'N', 'T', 'A', 'I', 'N', ' ', 'D', 'E', 'W']\n"
     ]
    }
   ],
   "source": [
    "func(\"MOUNTAIN DEW\")"
   ]
  },
  {
   "cell_type": "code",
   "execution_count": 116,
   "id": "79d2f552",
   "metadata": {},
   "outputs": [],
   "source": [
    "#PROGRAM 6\n",
    "#List to string\n",
    "def x_func(seq_list):\n",
    "    res = ''.join(seq_list)\n",
    "    print(res)"
   ]
  },
  {
   "cell_type": "code",
   "execution_count": 117,
   "id": "8ba89340",
   "metadata": {},
   "outputs": [
    {
     "name": "stdout",
     "output_type": "stream",
     "text": [
      "MOUNTAIN DEW\n"
     ]
    }
   ],
   "source": [
    "x_func(['M', 'O', 'U', 'N', 'T', 'A', 'I', 'N', ' ', 'D', 'E', 'W'])"
   ]
  },
  {
   "cell_type": "code",
   "execution_count": 129,
   "id": "5aaeb2a0",
   "metadata": {},
   "outputs": [],
   "source": [
    "#PROGRAM 7\n",
    "#To find second largest number using sorted()\n",
    "def my_func(seq_list):\n",
    "    res = sorted(seq_list)\n",
    "    print(f'The ascendind order {res}')\n",
    "    print(f'The second largest number {res[-2]}')\n",
    "    print(f'The descending order {res[::-1]}')"
   ]
  },
  {
   "cell_type": "code",
   "execution_count": 130,
   "id": "e63c7579",
   "metadata": {},
   "outputs": [
    {
     "name": "stdout",
     "output_type": "stream",
     "text": [
      "The ascendind order [1, 4, 5, 6, 23]\n",
      "The second largest number 6\n",
      "The descending order [23, 6, 5, 4, 1]\n"
     ]
    }
   ],
   "source": [
    "my_func([23,4,1,5,6])"
   ]
  },
  {
   "cell_type": "code",
   "execution_count": 132,
   "id": "8027b64d",
   "metadata": {},
   "outputs": [],
   "source": [
    "#PROGRAM 8\n",
    "#To find second largest number without sorted()\n",
    "def func(seq_list):\n",
    "    seq_lcopy = seq_list[:]\n",
    "    a = max(seq_lcopy)\n",
    "    seq_lcopy.remove(a)\n",
    "    print(f'The second largest number is {max(seq_lcopy)}')"
   ]
  },
  {
   "cell_type": "code",
   "execution_count": 133,
   "id": "0aa95443",
   "metadata": {},
   "outputs": [
    {
     "name": "stdout",
     "output_type": "stream",
     "text": [
      "The second largest number is 6\n"
     ]
    }
   ],
   "source": [
    "func([23,4,1,5,6])"
   ]
  },
  {
   "cell_type": "code",
   "execution_count": 134,
   "id": "6ea6c6c6",
   "metadata": {},
   "outputs": [
    {
     "name": "stdout",
     "output_type": "stream",
     "text": [
      "The second largest number is 88\n"
     ]
    }
   ],
   "source": [
    "func([88,100,2,3,4,5,5])"
   ]
  },
  {
   "cell_type": "code",
   "execution_count": 137,
   "id": "bff5ea51",
   "metadata": {},
   "outputs": [],
   "source": [
    "#PROGRAM 9\n",
    "#Iterating over a tuple\n",
    "t=1,2,3,4"
   ]
  },
  {
   "cell_type": "code",
   "execution_count": 138,
   "id": "9a81eb4d",
   "metadata": {},
   "outputs": [
    {
     "name": "stdout",
     "output_type": "stream",
     "text": [
      "1\n",
      "2\n",
      "3\n",
      "4\n"
     ]
    }
   ],
   "source": [
    "for i in t:\n",
    "    print(i)"
   ]
  },
  {
   "cell_type": "markdown",
   "id": "2d2adc64",
   "metadata": {},
   "source": [
    "``Iterator``"
   ]
  },
  {
   "cell_type": "code",
   "execution_count": 151,
   "id": "23cf5747",
   "metadata": {},
   "outputs": [],
   "source": [
    "#PROGRAM 10\n",
    "# Iterator is an object that iterates over iterable objects like list ,tuple, strings\n",
    "#Implementing __iter__ and __next__ protocols"
   ]
  },
  {
   "cell_type": "code",
   "execution_count": 20,
   "id": "aa0f0694",
   "metadata": {},
   "outputs": [],
   "source": [
    "l=[1,2,3,'a','sandy',True,False]"
   ]
  },
  {
   "cell_type": "code",
   "execution_count": 21,
   "id": "6fc35bf9",
   "metadata": {},
   "outputs": [
    {
     "data": {
      "text/plain": [
       "[1, 2, 3, 'a', 'sandy', True, False]"
      ]
     },
     "execution_count": 21,
     "metadata": {},
     "output_type": "execute_result"
    }
   ],
   "source": [
    "l"
   ]
  },
  {
   "cell_type": "code",
   "execution_count": 22,
   "id": "7c13a255",
   "metadata": {},
   "outputs": [],
   "source": [
    "m = l.__iter__()"
   ]
  },
  {
   "cell_type": "code",
   "execution_count": 23,
   "id": "f3e19679",
   "metadata": {},
   "outputs": [
    {
     "data": {
      "text/plain": [
       "1"
      ]
     },
     "execution_count": 23,
     "metadata": {},
     "output_type": "execute_result"
    }
   ],
   "source": [
    "m.__next__()"
   ]
  },
  {
   "cell_type": "code",
   "execution_count": 24,
   "id": "2d7ac2c7",
   "metadata": {},
   "outputs": [
    {
     "data": {
      "text/plain": [
       "2"
      ]
     },
     "execution_count": 24,
     "metadata": {},
     "output_type": "execute_result"
    }
   ],
   "source": [
    "m.__next__()"
   ]
  },
  {
   "cell_type": "code",
   "execution_count": 25,
   "id": "48e7696a",
   "metadata": {},
   "outputs": [
    {
     "data": {
      "text/plain": [
       "3"
      ]
     },
     "execution_count": 25,
     "metadata": {},
     "output_type": "execute_result"
    }
   ],
   "source": [
    "next(m)"
   ]
  },
  {
   "cell_type": "code",
   "execution_count": 26,
   "id": "b7b88a1b",
   "metadata": {},
   "outputs": [
    {
     "data": {
      "text/plain": [
       "'a'"
      ]
     },
     "execution_count": 26,
     "metadata": {},
     "output_type": "execute_result"
    }
   ],
   "source": [
    "next(m)"
   ]
  },
  {
   "cell_type": "code",
   "execution_count": 27,
   "id": "2d459b47",
   "metadata": {},
   "outputs": [
    {
     "data": {
      "text/plain": [
       "'sandy'"
      ]
     },
     "execution_count": 27,
     "metadata": {},
     "output_type": "execute_result"
    }
   ],
   "source": [
    "next(m)"
   ]
  },
  {
   "cell_type": "code",
   "execution_count": 28,
   "id": "b188ff70",
   "metadata": {},
   "outputs": [
    {
     "data": {
      "text/plain": [
       "True"
      ]
     },
     "execution_count": 28,
     "metadata": {},
     "output_type": "execute_result"
    }
   ],
   "source": [
    "next(m)"
   ]
  },
  {
   "cell_type": "code",
   "execution_count": 29,
   "id": "aea13e6f",
   "metadata": {},
   "outputs": [
    {
     "data": {
      "text/plain": [
       "False"
      ]
     },
     "execution_count": 29,
     "metadata": {},
     "output_type": "execute_result"
    }
   ],
   "source": [
    "next(m)"
   ]
  },
  {
   "cell_type": "code",
   "execution_count": 30,
   "id": "54da12e4",
   "metadata": {},
   "outputs": [
    {
     "ename": "StopIteration",
     "evalue": "",
     "output_type": "error",
     "traceback": [
      "\u001b[1;31m---------------------------------------------------------------------------\u001b[0m",
      "\u001b[1;31mStopIteration\u001b[0m                             Traceback (most recent call last)",
      "\u001b[1;32m~\\AppData\\Local\\Temp/ipykernel_21792/1080171644.py\u001b[0m in \u001b[0;36m<module>\u001b[1;34m\u001b[0m\n\u001b[1;32m----> 1\u001b[1;33m \u001b[0mnext\u001b[0m\u001b[1;33m(\u001b[0m\u001b[0mm\u001b[0m\u001b[1;33m)\u001b[0m\u001b[1;33m\u001b[0m\u001b[1;33m\u001b[0m\u001b[0m\n\u001b[0m",
      "\u001b[1;31mStopIteration\u001b[0m: "
     ]
    }
   ],
   "source": [
    "next(m)"
   ]
  },
  {
   "cell_type": "code",
   "execution_count": 31,
   "id": "9f0acbfb",
   "metadata": {},
   "outputs": [
    {
     "ename": "TypeError",
     "evalue": "'list_iterator' object is not subscriptable",
     "output_type": "error",
     "traceback": [
      "\u001b[1;31m---------------------------------------------------------------------------\u001b[0m",
      "\u001b[1;31mTypeError\u001b[0m                                 Traceback (most recent call last)",
      "\u001b[1;32m~\\AppData\\Local\\Temp/ipykernel_21792/1317023897.py\u001b[0m in \u001b[0;36m<module>\u001b[1;34m\u001b[0m\n\u001b[1;32m----> 1\u001b[1;33m \u001b[0mm\u001b[0m\u001b[1;33m[\u001b[0m\u001b[1;36m1\u001b[0m\u001b[1;33m]\u001b[0m\u001b[1;33m\u001b[0m\u001b[1;33m\u001b[0m\u001b[0m\n\u001b[0m",
      "\u001b[1;31mTypeError\u001b[0m: 'list_iterator' object is not subscriptable"
     ]
    }
   ],
   "source": [
    "m[1]"
   ]
  },
  {
   "cell_type": "code",
   "execution_count": null,
   "id": "6df2f300",
   "metadata": {},
   "outputs": [],
   "source": [
    "#PROGRAM 11\n",
    "#Generator -> In python Generator is an function that is used to create our own iterator objects"
   ]
  },
  {
   "cell_type": "code",
   "execution_count": 163,
   "id": "29b2fdd5",
   "metadata": {},
   "outputs": [],
   "source": [
    "def my_func():\n",
    "    yield 'Hi Guys'\n",
    "    yield 'Iam generator object'\n",
    "    yield 'Yields every object one at a time'\n",
    "    yield 'next stop iteration comes'"
   ]
  },
  {
   "cell_type": "code",
   "execution_count": 164,
   "id": "823b1b02",
   "metadata": {},
   "outputs": [
    {
     "data": {
      "text/plain": [
       "<generator object my_func at 0x00000212793B4350>"
      ]
     },
     "execution_count": 164,
     "metadata": {},
     "output_type": "execute_result"
    }
   ],
   "source": [
    "my_func()"
   ]
  },
  {
   "cell_type": "code",
   "execution_count": 205,
   "id": "32e9c620",
   "metadata": {},
   "outputs": [
    {
     "data": {
      "text/plain": [
       "<function __main__.my_func()>"
      ]
     },
     "execution_count": 205,
     "metadata": {},
     "output_type": "execute_result"
    }
   ],
   "source": [
    "my_func"
   ]
  },
  {
   "cell_type": "code",
   "execution_count": 165,
   "id": "b09699a4",
   "metadata": {},
   "outputs": [],
   "source": [
    "f=my_func()"
   ]
  },
  {
   "cell_type": "code",
   "execution_count": 166,
   "id": "3a11be00",
   "metadata": {},
   "outputs": [
    {
     "data": {
      "text/plain": [
       "<generator object my_func at 0x00000212793B44A0>"
      ]
     },
     "execution_count": 166,
     "metadata": {},
     "output_type": "execute_result"
    }
   ],
   "source": [
    "f"
   ]
  },
  {
   "cell_type": "code",
   "execution_count": 167,
   "id": "b05116b4",
   "metadata": {},
   "outputs": [
    {
     "data": {
      "text/plain": [
       "'Hi Guys'"
      ]
     },
     "execution_count": 167,
     "metadata": {},
     "output_type": "execute_result"
    }
   ],
   "source": [
    "f.__next__()"
   ]
  },
  {
   "cell_type": "code",
   "execution_count": 168,
   "id": "3222169a",
   "metadata": {},
   "outputs": [
    {
     "data": {
      "text/plain": [
       "'Iam generator object'"
      ]
     },
     "execution_count": 168,
     "metadata": {},
     "output_type": "execute_result"
    }
   ],
   "source": [
    "next(f)"
   ]
  },
  {
   "cell_type": "code",
   "execution_count": 169,
   "id": "a9ed7ab3",
   "metadata": {},
   "outputs": [
    {
     "data": {
      "text/plain": [
       "'Yields every object one at a time'"
      ]
     },
     "execution_count": 169,
     "metadata": {},
     "output_type": "execute_result"
    }
   ],
   "source": [
    "next(f)"
   ]
  },
  {
   "cell_type": "code",
   "execution_count": 170,
   "id": "355cf42e",
   "metadata": {},
   "outputs": [
    {
     "data": {
      "text/plain": [
       "'next stop iteration comes'"
      ]
     },
     "execution_count": 170,
     "metadata": {},
     "output_type": "execute_result"
    }
   ],
   "source": [
    "next(f)"
   ]
  },
  {
   "cell_type": "code",
   "execution_count": 171,
   "id": "7b0cdac6",
   "metadata": {},
   "outputs": [
    {
     "ename": "StopIteration",
     "evalue": "",
     "output_type": "error",
     "traceback": [
      "\u001b[1;31m---------------------------------------------------------------------------\u001b[0m",
      "\u001b[1;31mStopIteration\u001b[0m                             Traceback (most recent call last)",
      "\u001b[1;32m~\\AppData\\Local\\Temp/ipykernel_26020/4256387510.py\u001b[0m in \u001b[0;36m<module>\u001b[1;34m\u001b[0m\n\u001b[1;32m----> 1\u001b[1;33m \u001b[0mnext\u001b[0m\u001b[1;33m(\u001b[0m\u001b[0mf\u001b[0m\u001b[1;33m)\u001b[0m\u001b[1;33m\u001b[0m\u001b[1;33m\u001b[0m\u001b[0m\n\u001b[0m",
      "\u001b[1;31mStopIteration\u001b[0m: "
     ]
    }
   ],
   "source": [
    "next(f)"
   ]
  },
  {
   "cell_type": "code",
   "execution_count": 172,
   "id": "38d86623",
   "metadata": {},
   "outputs": [],
   "source": [
    "#case1). using yield\n",
    "def xrange(start,stop,step):\n",
    "    for i in range(start,stop,step):\n",
    "        yield i"
   ]
  },
  {
   "cell_type": "code",
   "execution_count": 174,
   "id": "e02724a5",
   "metadata": {},
   "outputs": [],
   "source": [
    "f=xrange(1,5,1)"
   ]
  },
  {
   "cell_type": "code",
   "execution_count": 204,
   "id": "335102a9",
   "metadata": {},
   "outputs": [
    {
     "data": {
      "text/plain": [
       "function"
      ]
     },
     "execution_count": 204,
     "metadata": {},
     "output_type": "execute_result"
    }
   ],
   "source": [
    "type(xrange)"
   ]
  },
  {
   "cell_type": "code",
   "execution_count": 175,
   "id": "1b55ddab",
   "metadata": {},
   "outputs": [
    {
     "data": {
      "text/plain": [
       "<generator object xrange at 0x00000212793B4A50>"
      ]
     },
     "execution_count": 175,
     "metadata": {},
     "output_type": "execute_result"
    }
   ],
   "source": [
    "f"
   ]
  },
  {
   "cell_type": "code",
   "execution_count": 176,
   "id": "3d7885af",
   "metadata": {},
   "outputs": [
    {
     "data": {
      "text/plain": [
       "1"
      ]
     },
     "execution_count": 176,
     "metadata": {},
     "output_type": "execute_result"
    }
   ],
   "source": [
    "next(f)"
   ]
  },
  {
   "cell_type": "code",
   "execution_count": 177,
   "id": "8a308e46",
   "metadata": {},
   "outputs": [
    {
     "data": {
      "text/plain": [
       "2"
      ]
     },
     "execution_count": 177,
     "metadata": {},
     "output_type": "execute_result"
    }
   ],
   "source": [
    "next(f)"
   ]
  },
  {
   "cell_type": "code",
   "execution_count": 178,
   "id": "a2e6f3de",
   "metadata": {},
   "outputs": [
    {
     "data": {
      "text/plain": [
       "3"
      ]
     },
     "execution_count": 178,
     "metadata": {},
     "output_type": "execute_result"
    }
   ],
   "source": [
    "next(f)"
   ]
  },
  {
   "cell_type": "code",
   "execution_count": 179,
   "id": "9a4671db",
   "metadata": {},
   "outputs": [
    {
     "data": {
      "text/plain": [
       "4"
      ]
     },
     "execution_count": 179,
     "metadata": {},
     "output_type": "execute_result"
    }
   ],
   "source": [
    "next(f)"
   ]
  },
  {
   "cell_type": "code",
   "execution_count": 180,
   "id": "62b041e9",
   "metadata": {},
   "outputs": [
    {
     "ename": "StopIteration",
     "evalue": "",
     "output_type": "error",
     "traceback": [
      "\u001b[1;31m---------------------------------------------------------------------------\u001b[0m",
      "\u001b[1;31mStopIteration\u001b[0m                             Traceback (most recent call last)",
      "\u001b[1;32m~\\AppData\\Local\\Temp/ipykernel_26020/4256387510.py\u001b[0m in \u001b[0;36m<module>\u001b[1;34m\u001b[0m\n\u001b[1;32m----> 1\u001b[1;33m \u001b[0mnext\u001b[0m\u001b[1;33m(\u001b[0m\u001b[0mf\u001b[0m\u001b[1;33m)\u001b[0m\u001b[1;33m\u001b[0m\u001b[1;33m\u001b[0m\u001b[0m\n\u001b[0m",
      "\u001b[1;31mStopIteration\u001b[0m: "
     ]
    }
   ],
   "source": [
    "next(f)"
   ]
  },
  {
   "cell_type": "code",
   "execution_count": 190,
   "id": "332e17d5",
   "metadata": {},
   "outputs": [],
   "source": [
    "# case2 using return\n",
    "def xrange(start,stop,step):\n",
    "    for i in range(start,stop,step):\n",
    "        return i"
   ]
  },
  {
   "cell_type": "code",
   "execution_count": 191,
   "id": "6c774e35",
   "metadata": {},
   "outputs": [],
   "source": [
    "f2=xrange(1,5,1)"
   ]
  },
  {
   "cell_type": "code",
   "execution_count": 192,
   "id": "3fd33a38",
   "metadata": {},
   "outputs": [
    {
     "data": {
      "text/plain": [
       "1"
      ]
     },
     "execution_count": 192,
     "metadata": {},
     "output_type": "execute_result"
    }
   ],
   "source": [
    "f2"
   ]
  },
  {
   "cell_type": "code",
   "execution_count": 184,
   "id": "ca5d56c3",
   "metadata": {},
   "outputs": [
    {
     "data": {
      "text/plain": [
       "1"
      ]
     },
     "execution_count": 184,
     "metadata": {},
     "output_type": "execute_result"
    }
   ],
   "source": [
    "f2"
   ]
  },
  {
   "cell_type": "code",
   "execution_count": 186,
   "id": "fcbff0a7",
   "metadata": {},
   "outputs": [
    {
     "data": {
      "text/plain": [
       "int"
      ]
     },
     "execution_count": 186,
     "metadata": {},
     "output_type": "execute_result"
    }
   ],
   "source": [
    "type(f2)"
   ]
  },
  {
   "cell_type": "code",
   "execution_count": 187,
   "id": "9b8c8586",
   "metadata": {},
   "outputs": [],
   "source": [
    "# case3 using print\n",
    "def xrange(start,stop,step):\n",
    "    for i in range(start,stop,step):\n",
    "        print(i)"
   ]
  },
  {
   "cell_type": "code",
   "execution_count": 188,
   "id": "deaa9146",
   "metadata": {},
   "outputs": [
    {
     "name": "stdout",
     "output_type": "stream",
     "text": [
      "1\n",
      "2\n",
      "3\n",
      "4\n"
     ]
    }
   ],
   "source": [
    "f3=xrange(1,5,1)"
   ]
  },
  {
   "cell_type": "code",
   "execution_count": 193,
   "id": "6a313487",
   "metadata": {},
   "outputs": [],
   "source": [
    "#GENERATOR\n",
    "def my_func():\n",
    "    yield 'Hi Guys'\n",
    "    yield 'Iam generator object'\n",
    "    yield 'Yields every object one at a time'\n",
    "    yield 'next stop iteration comes'"
   ]
  },
  {
   "cell_type": "code",
   "execution_count": 194,
   "id": "37fab96a",
   "metadata": {},
   "outputs": [],
   "source": [
    "g = my_func()"
   ]
  },
  {
   "cell_type": "code",
   "execution_count": 195,
   "id": "e16230ad",
   "metadata": {},
   "outputs": [
    {
     "data": {
      "text/plain": [
       "<generator object my_func at 0x00000212793B6DD0>"
      ]
     },
     "execution_count": 195,
     "metadata": {},
     "output_type": "execute_result"
    }
   ],
   "source": [
    "my_func()"
   ]
  },
  {
   "cell_type": "code",
   "execution_count": 196,
   "id": "e1d9add3",
   "metadata": {},
   "outputs": [
    {
     "data": {
      "text/plain": [
       "<generator object my_func at 0x00000212793B6C10>"
      ]
     },
     "execution_count": 196,
     "metadata": {},
     "output_type": "execute_result"
    }
   ],
   "source": [
    "g"
   ]
  },
  {
   "cell_type": "code",
   "execution_count": 198,
   "id": "7bc269a1",
   "metadata": {},
   "outputs": [
    {
     "data": {
      "text/plain": [
       "'Hi Guys'"
      ]
     },
     "execution_count": 198,
     "metadata": {},
     "output_type": "execute_result"
    }
   ],
   "source": [
    "next(g)"
   ]
  },
  {
   "cell_type": "code",
   "execution_count": 199,
   "id": "09a441f4",
   "metadata": {},
   "outputs": [
    {
     "data": {
      "text/plain": [
       "<generator object my_func at 0x00000212793B6D60>"
      ]
     },
     "execution_count": 199,
     "metadata": {},
     "output_type": "execute_result"
    }
   ],
   "source": [
    "my_func()"
   ]
  },
  {
   "cell_type": "code",
   "execution_count": 200,
   "id": "1ad9bfc8",
   "metadata": {},
   "outputs": [
    {
     "ename": "TypeError",
     "evalue": "'generator' object is not callable",
     "output_type": "error",
     "traceback": [
      "\u001b[1;31m---------------------------------------------------------------------------\u001b[0m",
      "\u001b[1;31mTypeError\u001b[0m                                 Traceback (most recent call last)",
      "\u001b[1;32m~\\AppData\\Local\\Temp/ipykernel_26020/258099874.py\u001b[0m in \u001b[0;36m<module>\u001b[1;34m\u001b[0m\n\u001b[1;32m----> 1\u001b[1;33m \u001b[0mg\u001b[0m\u001b[1;33m(\u001b[0m\u001b[1;33m)\u001b[0m\u001b[1;33m\u001b[0m\u001b[1;33m\u001b[0m\u001b[0m\n\u001b[0m",
      "\u001b[1;31mTypeError\u001b[0m: 'generator' object is not callable"
     ]
    }
   ],
   "source": [
    "g()"
   ]
  },
  {
   "cell_type": "code",
   "execution_count": 201,
   "id": "4289aa83",
   "metadata": {},
   "outputs": [
    {
     "data": {
      "text/plain": [
       "'Iam generator object'"
      ]
     },
     "execution_count": 201,
     "metadata": {},
     "output_type": "execute_result"
    }
   ],
   "source": [
    "next(g)"
   ]
  },
  {
   "cell_type": "code",
   "execution_count": 209,
   "id": "a56950a5",
   "metadata": {},
   "outputs": [],
   "source": [
    "# Print Fibonacci series\n",
    "def fib(count):\n",
    "    m=0\n",
    "    n=1\n",
    "    print(m)\n",
    "    print(n)\n",
    "    for i in range(2,count):\n",
    "        result = m+n\n",
    "        m = n\n",
    "        n = result\n",
    "        print(result)"
   ]
  },
  {
   "cell_type": "code",
   "execution_count": 210,
   "id": "24bbdded",
   "metadata": {},
   "outputs": [
    {
     "name": "stdout",
     "output_type": "stream",
     "text": [
      "0\n",
      "1\n",
      "1\n",
      "2\n",
      "3\n",
      "5\n",
      "8\n",
      "13\n",
      "21\n",
      "34\n"
     ]
    }
   ],
   "source": [
    "fib(10)"
   ]
  },
  {
   "cell_type": "code",
   "execution_count": 228,
   "id": "8f43656b",
   "metadata": {},
   "outputs": [],
   "source": [
    "#Finding a fibonacci number based on its index value\n",
    "# Fib series  0,1,1,2,3,5,8,13,21,34\n",
    "# Fib indexes 0,1,2,3,4,5,6,7, 8, 9\n",
    "def fib(index):\n",
    "    if index==0:\n",
    "        return 0\n",
    "    elif index<2:\n",
    "        return 1\n",
    "    else:\n",
    "        return fib(index-1)+fib(index-2)\n",
    "        "
   ]
  },
  {
   "cell_type": "code",
   "execution_count": 229,
   "id": "0d35063e",
   "metadata": {},
   "outputs": [
    {
     "data": {
      "text/plain": [
       "0"
      ]
     },
     "execution_count": 229,
     "metadata": {},
     "output_type": "execute_result"
    }
   ],
   "source": [
    "fib(0)"
   ]
  },
  {
   "cell_type": "code",
   "execution_count": 230,
   "id": "7d6b9a78",
   "metadata": {},
   "outputs": [
    {
     "data": {
      "text/plain": [
       "1"
      ]
     },
     "execution_count": 230,
     "metadata": {},
     "output_type": "execute_result"
    }
   ],
   "source": [
    "fib(1)"
   ]
  },
  {
   "cell_type": "code",
   "execution_count": 231,
   "id": "174f8ebd",
   "metadata": {},
   "outputs": [
    {
     "data": {
      "text/plain": [
       "34"
      ]
     },
     "execution_count": 231,
     "metadata": {},
     "output_type": "execute_result"
    }
   ],
   "source": [
    "fib(9)"
   ]
  },
  {
   "cell_type": "code",
   "execution_count": 232,
   "id": "163f5c95",
   "metadata": {},
   "outputs": [
    {
     "data": {
      "text/plain": [
       "55"
      ]
     },
     "execution_count": 232,
     "metadata": {},
     "output_type": "execute_result"
    }
   ],
   "source": [
    "fib(10)"
   ]
  },
  {
   "cell_type": "code",
   "execution_count": 235,
   "id": "affaa6ca",
   "metadata": {},
   "outputs": [],
   "source": [
    "#Factorial of a number\n",
    "def fact(num):\n",
    "    if num==0 or num==1:\n",
    "        return 1\n",
    "    else:\n",
    "        return num*fact(num-1)"
   ]
  },
  {
   "cell_type": "code",
   "execution_count": 236,
   "id": "0322334a",
   "metadata": {},
   "outputs": [
    {
     "data": {
      "text/plain": [
       "120"
      ]
     },
     "execution_count": 236,
     "metadata": {},
     "output_type": "execute_result"
    }
   ],
   "source": [
    "fact(5)"
   ]
  },
  {
   "cell_type": "code",
   "execution_count": 298,
   "id": "1f3353a5",
   "metadata": {},
   "outputs": [],
   "source": [
    "#To find a number is prime or not and break example too\n",
    "def prime_check(num):\n",
    "    if num==2:\n",
    "        print('It is the only even prime number')\n",
    "    elif num>2:\n",
    "        for i in range(2,num):\n",
    "            if num%i==0:\n",
    "                print('It is not a prime number')\n",
    "                break\n",
    "#                 continue\n",
    "        else:\n",
    "            print('It is a prime number')\n",
    "        \n",
    "        print('break statement executed')\n",
    "\n",
    "            \n",
    "    else:\n",
    "        print(\"Not a prime number\")\n",
    "        "
   ]
  },
  {
   "cell_type": "code",
   "execution_count": 299,
   "id": "62ec51ef",
   "metadata": {},
   "outputs": [
    {
     "name": "stdout",
     "output_type": "stream",
     "text": [
      "It is not a prime number\n",
      "break statement executed\n"
     ]
    }
   ],
   "source": [
    "prime_check(25)"
   ]
  },
  {
   "cell_type": "code",
   "execution_count": 11,
   "id": "05ca154c",
   "metadata": {},
   "outputs": [],
   "source": [
    "#To print prime numbers in a given range\n",
    "def prime_series(start,stop):\n",
    "    prime_list=[]\n",
    "    l=[]\n",
    "    for num in range(start,stop):\n",
    "        if num==2:\n",
    "            prime_list.append(num)\n",
    "        elif num>2:\n",
    "            for i in range(2,num):\n",
    "                if num%i==0:\n",
    "                    l.append(num)\n",
    "                    break\n",
    "            else:\n",
    "                prime_list.append(num)\n",
    "    print(prime_list)"
   ]
  },
  {
   "cell_type": "code",
   "execution_count": 12,
   "id": "3af2a5ae",
   "metadata": {},
   "outputs": [
    {
     "name": "stdout",
     "output_type": "stream",
     "text": [
      "[23, 29]\n"
     ]
    }
   ],
   "source": [
    "prime_series(20,30)"
   ]
  },
  {
   "cell_type": "code",
   "execution_count": 13,
   "id": "52632c92",
   "metadata": {},
   "outputs": [],
   "source": [
    "#To print n number of prime numbers\n",
    "def prime(n):\n",
    "    count=0\n",
    "    prime_list=[]\n",
    "    l=[]\n",
    "    num=0\n",
    "    while count<n-1:\n",
    "        if num==2:\n",
    "            prime_list.append(num)\n",
    "        elif num>2:\n",
    "            for i in range(2,num):\n",
    "                if num%i==0:\n",
    "                    l.append(num)\n",
    "                    break\n",
    "            else:\n",
    "                prime_list.append(num)\n",
    "                count=count+1\n",
    "        num=num+1\n",
    "       \n",
    "    print(prime_list)\n",
    "    print(len(prime_list))"
   ]
  },
  {
   "cell_type": "code",
   "execution_count": 16,
   "id": "4825540a",
   "metadata": {},
   "outputs": [
    {
     "name": "stdout",
     "output_type": "stream",
     "text": [
      "[2, 3, 5, 7, 11, 13, 17, 19, 23, 29]\n",
      "10\n"
     ]
    }
   ],
   "source": [
    "prime(10)"
   ]
  },
  {
   "cell_type": "code",
   "execution_count": 1,
   "id": "d9a9bc70",
   "metadata": {},
   "outputs": [],
   "source": [
    "#Creating our own Iterator"
   ]
  },
  {
   "cell_type": "code",
   "execution_count": 64,
   "id": "40737cac",
   "metadata": {},
   "outputs": [],
   "source": [
    "class My_Numbers:\n",
    "    def __init__(self,length):\n",
    "        self.length = length\n",
    "    \n",
    "    def __iter__(self):\n",
    "        self.i=1\n",
    "        return self\n",
    "    \n",
    "    def __next__(self):\n",
    "        if self.i <= self.length:\n",
    "            x = self.i\n",
    "            self.i=self.i+1\n",
    "            print(x)\n",
    "        else:\n",
    "            raise StopIteration('Hi Iam Stoping This Iteration because there is nothing to view')\n",
    "            \n",
    "    def __len__(self):\n",
    "        return self.length"
   ]
  },
  {
   "cell_type": "code",
   "execution_count": 65,
   "id": "44e8f51b",
   "metadata": {},
   "outputs": [],
   "source": [
    "numbers = My_Numbers(4)"
   ]
  },
  {
   "cell_type": "code",
   "execution_count": 66,
   "id": "4e1aabdf",
   "metadata": {},
   "outputs": [
    {
     "data": {
      "text/plain": [
       "__main__.My_Numbers"
      ]
     },
     "execution_count": 66,
     "metadata": {},
     "output_type": "execute_result"
    }
   ],
   "source": [
    "My_Numbers"
   ]
  },
  {
   "cell_type": "code",
   "execution_count": 67,
   "id": "eb52f675",
   "metadata": {},
   "outputs": [
    {
     "data": {
      "text/plain": [
       "<__main__.My_Numbers at 0x194215b51f0>"
      ]
     },
     "execution_count": 67,
     "metadata": {},
     "output_type": "execute_result"
    }
   ],
   "source": [
    "numbers"
   ]
  },
  {
   "cell_type": "code",
   "execution_count": 68,
   "id": "9bc2ad60",
   "metadata": {},
   "outputs": [
    {
     "data": {
      "text/plain": [
       "{'length': 4}"
      ]
     },
     "execution_count": 68,
     "metadata": {},
     "output_type": "execute_result"
    }
   ],
   "source": [
    "numbers.__dict__"
   ]
  },
  {
   "cell_type": "code",
   "execution_count": 69,
   "id": "eec35a42",
   "metadata": {},
   "outputs": [
    {
     "data": {
      "text/plain": [
       "mappingproxy({'__module__': '__main__',\n",
       "              '__init__': <function __main__.My_Numbers.__init__(self, length)>,\n",
       "              '__iter__': <function __main__.My_Numbers.__iter__(self)>,\n",
       "              '__next__': <function __main__.My_Numbers.__next__(self)>,\n",
       "              '__len__': <function __main__.My_Numbers.__len__(self)>,\n",
       "              '__dict__': <attribute '__dict__' of 'My_Numbers' objects>,\n",
       "              '__weakref__': <attribute '__weakref__' of 'My_Numbers' objects>,\n",
       "              '__doc__': None})"
      ]
     },
     "execution_count": 69,
     "metadata": {},
     "output_type": "execute_result"
    }
   ],
   "source": [
    "My_Numbers.__dict__"
   ]
  },
  {
   "cell_type": "code",
   "execution_count": 70,
   "id": "329203b0",
   "metadata": {},
   "outputs": [
    {
     "data": {
      "text/plain": [
       "<__main__.My_Numbers at 0x194215b51f0>"
      ]
     },
     "execution_count": 70,
     "metadata": {},
     "output_type": "execute_result"
    }
   ],
   "source": [
    "numbers.__iter__()"
   ]
  },
  {
   "cell_type": "code",
   "execution_count": 71,
   "id": "e14abefa",
   "metadata": {},
   "outputs": [
    {
     "data": {
      "text/plain": [
       "4"
      ]
     },
     "execution_count": 71,
     "metadata": {},
     "output_type": "execute_result"
    }
   ],
   "source": [
    "numbers.__len__()"
   ]
  },
  {
   "cell_type": "code",
   "execution_count": 72,
   "id": "9924f0dd",
   "metadata": {},
   "outputs": [
    {
     "name": "stdout",
     "output_type": "stream",
     "text": [
      "1\n"
     ]
    }
   ],
   "source": [
    "numbers.__next__()"
   ]
  },
  {
   "cell_type": "code",
   "execution_count": 73,
   "id": "80849905",
   "metadata": {},
   "outputs": [
    {
     "name": "stdout",
     "output_type": "stream",
     "text": [
      "2\n"
     ]
    }
   ],
   "source": [
    "numbers.__next__()"
   ]
  },
  {
   "cell_type": "code",
   "execution_count": 74,
   "id": "3e2b4afa",
   "metadata": {},
   "outputs": [
    {
     "name": "stdout",
     "output_type": "stream",
     "text": [
      "3\n"
     ]
    }
   ],
   "source": [
    "next(numbers)"
   ]
  },
  {
   "cell_type": "code",
   "execution_count": 75,
   "id": "ec8c448e",
   "metadata": {},
   "outputs": [
    {
     "name": "stdout",
     "output_type": "stream",
     "text": [
      "4\n"
     ]
    }
   ],
   "source": [
    "next(numbers)"
   ]
  },
  {
   "cell_type": "code",
   "execution_count": 76,
   "id": "3000015c",
   "metadata": {},
   "outputs": [
    {
     "ename": "StopIteration",
     "evalue": "Hi Iam Stoping This Iteration because there is nothing to view",
     "output_type": "error",
     "traceback": [
      "\u001b[1;31m---------------------------------------------------------------------------\u001b[0m",
      "\u001b[1;31mStopIteration\u001b[0m                             Traceback (most recent call last)",
      "\u001b[1;32m~\\AppData\\Local\\Temp/ipykernel_21792/1682589713.py\u001b[0m in \u001b[0;36m<module>\u001b[1;34m\u001b[0m\n\u001b[1;32m----> 1\u001b[1;33m \u001b[0mnext\u001b[0m\u001b[1;33m(\u001b[0m\u001b[0mnumbers\u001b[0m\u001b[1;33m)\u001b[0m\u001b[1;33m\u001b[0m\u001b[1;33m\u001b[0m\u001b[0m\n\u001b[0m",
      "\u001b[1;32m~\\AppData\\Local\\Temp/ipykernel_21792/990513351.py\u001b[0m in \u001b[0;36m__next__\u001b[1;34m(self)\u001b[0m\n\u001b[0;32m     13\u001b[0m             \u001b[0mprint\u001b[0m\u001b[1;33m(\u001b[0m\u001b[0mx\u001b[0m\u001b[1;33m)\u001b[0m\u001b[1;33m\u001b[0m\u001b[1;33m\u001b[0m\u001b[0m\n\u001b[0;32m     14\u001b[0m         \u001b[1;32melse\u001b[0m\u001b[1;33m:\u001b[0m\u001b[1;33m\u001b[0m\u001b[1;33m\u001b[0m\u001b[0m\n\u001b[1;32m---> 15\u001b[1;33m             \u001b[1;32mraise\u001b[0m \u001b[0mStopIteration\u001b[0m\u001b[1;33m(\u001b[0m\u001b[1;34m'Hi Iam Stoping This Iteration because there is nothing to view'\u001b[0m\u001b[1;33m)\u001b[0m\u001b[1;33m\u001b[0m\u001b[1;33m\u001b[0m\u001b[0m\n\u001b[0m\u001b[0;32m     16\u001b[0m \u001b[1;33m\u001b[0m\u001b[0m\n\u001b[0;32m     17\u001b[0m     \u001b[1;32mdef\u001b[0m \u001b[0m__len__\u001b[0m\u001b[1;33m(\u001b[0m\u001b[0mself\u001b[0m\u001b[1;33m)\u001b[0m\u001b[1;33m:\u001b[0m\u001b[1;33m\u001b[0m\u001b[1;33m\u001b[0m\u001b[0m\n",
      "\u001b[1;31mStopIteration\u001b[0m: Hi Iam Stoping This Iteration because there is nothing to view"
     ]
    }
   ],
   "source": [
    "next(numbers)"
   ]
  },
  {
   "cell_type": "code",
   "execution_count": 77,
   "id": "da9d9688",
   "metadata": {},
   "outputs": [],
   "source": [
    "#To swap two numbers"
   ]
  },
  {
   "cell_type": "code",
   "execution_count": 78,
   "id": "c095661e",
   "metadata": {},
   "outputs": [],
   "source": [
    "def my_function(num1,num2):\n",
    "    print(f'The value of num1 before swap {num1}')\n",
    "    print(f'The value of num2 before swap {num2}')\n",
    "    num1,num2=num2,num1\n",
    "    print(f'The value of num1 after swap {num1}')\n",
    "    print(f'The value of num2 after swap {num2}')\n",
    "    "
   ]
  },
  {
   "cell_type": "code",
   "execution_count": 79,
   "id": "fcbcf808",
   "metadata": {},
   "outputs": [
    {
     "name": "stdout",
     "output_type": "stream",
     "text": [
      "The value of num1 before swap 5\n",
      "The value of num2 before swap 6\n",
      "The value of num1 after swap 6\n",
      "The value of num2 after swap 5\n"
     ]
    }
   ],
   "source": [
    "my_function(5,6)"
   ]
  },
  {
   "cell_type": "code",
   "execution_count": 80,
   "id": "dde64e44",
   "metadata": {},
   "outputs": [],
   "source": [
    "#To swap two numbers in a given list"
   ]
  },
  {
   "cell_type": "code",
   "execution_count": 81,
   "id": "919ed8de",
   "metadata": {},
   "outputs": [],
   "source": [
    "def func(seq_list,i,j):\n",
    "    print(f'The original sequence is {seq_list}')\n",
    "    seq_list[i],seq_list[j]=seq_list[j],seq_list[i]\n",
    "    print(f'The sequence after swapping is {seq_list}')"
   ]
  },
  {
   "cell_type": "code",
   "execution_count": 82,
   "id": "f92ce32e",
   "metadata": {},
   "outputs": [
    {
     "name": "stdout",
     "output_type": "stream",
     "text": [
      "The original sequence is [1, 2, 3, 4, 5, 6, 7, 8, 9]\n",
      "The sequence after swapping is [9, 2, 3, 4, 5, 6, 7, 8, 1]\n"
     ]
    }
   ],
   "source": [
    "func([1,2,3,4,5,6,7,8,9],0,8)"
   ]
  },
  {
   "cell_type": "code",
   "execution_count": 83,
   "id": "1b2b5662",
   "metadata": {},
   "outputs": [
    {
     "name": "stdout",
     "output_type": "stream",
     "text": [
      "The original sequence is [1, 2, 3, 4, 5, 6, 7, 8, 9]\n",
      "The sequence after swapping is [1, 6, 3, 4, 5, 2, 7, 8, 9]\n"
     ]
    }
   ],
   "source": [
    "func([1,2,3,4,5,6,7,8,9],5,1)"
   ]
  },
  {
   "cell_type": "code",
   "execution_count": 84,
   "id": "7aa0794e",
   "metadata": {},
   "outputs": [],
   "source": [
    "#To find out number of uppercase letters and lowercase letters in a given string"
   ]
  },
  {
   "cell_type": "code",
   "execution_count": 85,
   "id": "50e6c6bc",
   "metadata": {},
   "outputs": [],
   "source": [
    "def my_func(string):\n",
    "    d={'upper_case':0,'lowercase':0}\n",
    "    for i in string:\n",
    "        if i.isupper():\n",
    "            d['upper_case']+=1\n",
    "        else:\n",
    "            d['lowercase']+=1\n",
    "    print(d)"
   ]
  },
  {
   "cell_type": "code",
   "execution_count": 86,
   "id": "22bad868",
   "metadata": {},
   "outputs": [
    {
     "name": "stdout",
     "output_type": "stream",
     "text": [
      "{'upper_case': 1, 'lowercase': 4}\n"
     ]
    }
   ],
   "source": [
    "my_func(\"Akash\")"
   ]
  },
  {
   "cell_type": "code",
   "execution_count": 87,
   "id": "f4bc4887",
   "metadata": {},
   "outputs": [
    {
     "name": "stdout",
     "output_type": "stream",
     "text": [
      "{'upper_case': 6, 'lowercase': 17}\n"
     ]
    }
   ],
   "source": [
    "my_func('Hello Everyone iam HERE')"
   ]
  },
  {
   "cell_type": "code",
   "execution_count": 88,
   "id": "a629b6eb",
   "metadata": {},
   "outputs": [],
   "source": [
    "#Printing uppercase and lowercase letters in a string"
   ]
  },
  {
   "cell_type": "code",
   "execution_count": 89,
   "id": "0cf6a032",
   "metadata": {},
   "outputs": [],
   "source": [
    "def function(string):\n",
    "    u=[]\n",
    "    l=[]\n",
    "    for i in string:\n",
    "        if i.isupper():\n",
    "            u.append(i)\n",
    "        else:\n",
    "            l.append(i)\n",
    "    print(u)\n",
    "    print(l)"
   ]
  },
  {
   "cell_type": "code",
   "execution_count": 90,
   "id": "d2c2e15f",
   "metadata": {},
   "outputs": [
    {
     "name": "stdout",
     "output_type": "stream",
     "text": [
      "['A']\n",
      "['k', 'a', 's', 'h']\n"
     ]
    }
   ],
   "source": [
    "function(\"Akash\")"
   ]
  },
  {
   "cell_type": "code",
   "execution_count": 94,
   "id": "76c510a0",
   "metadata": {},
   "outputs": [
    {
     "data": {
      "text/plain": [
       "'Akash aryakanth'"
      ]
     },
     "execution_count": 94,
     "metadata": {},
     "output_type": "execute_result"
    }
   ],
   "source": [
    "'akash aryakanth'.capitalize()"
   ]
  },
  {
   "cell_type": "code",
   "execution_count": 96,
   "id": "842a7c61",
   "metadata": {},
   "outputs": [
    {
     "data": {
      "text/plain": [
       "'Akash Aryakanth'"
      ]
     },
     "execution_count": 96,
     "metadata": {},
     "output_type": "execute_result"
    }
   ],
   "source": [
    "'akash aryakanth'.title()"
   ]
  },
  {
   "cell_type": "code",
   "execution_count": 97,
   "id": "3195ad54",
   "metadata": {},
   "outputs": [
    {
     "data": {
      "text/plain": [
       "'AKASH'"
      ]
     },
     "execution_count": 97,
     "metadata": {},
     "output_type": "execute_result"
    }
   ],
   "source": [
    "'akash'.upper()"
   ]
  },
  {
   "cell_type": "code",
   "execution_count": 98,
   "id": "a5cea9b6",
   "metadata": {},
   "outputs": [
    {
     "data": {
      "text/plain": [
       "'arya'"
      ]
     },
     "execution_count": 98,
     "metadata": {},
     "output_type": "execute_result"
    }
   ],
   "source": [
    "'ARYA'.lower()"
   ]
  },
  {
   "cell_type": "code",
   "execution_count": 100,
   "id": "b043eef6",
   "metadata": {},
   "outputs": [],
   "source": [
    "#Implementing uppercase problem with decorator"
   ]
  },
  {
   "cell_type": "code",
   "execution_count": 2,
   "id": "b4374491",
   "metadata": {},
   "outputs": [],
   "source": [
    "def outer(fn):\n",
    "    def inner(*args,**kwargs):\n",
    "        print('within inner')\n",
    "        return fn(*args,**kwargs)\n",
    "    return inner"
   ]
  },
  {
   "cell_type": "code",
   "execution_count": 3,
   "id": "67132824",
   "metadata": {},
   "outputs": [],
   "source": [
    "@outer\n",
    "def upper_case(string):\n",
    "    print(type(outer))\n",
    "    return string.upper()"
   ]
  },
  {
   "cell_type": "code",
   "execution_count": 4,
   "id": "917c5700",
   "metadata": {},
   "outputs": [
    {
     "name": "stdout",
     "output_type": "stream",
     "text": [
      "within inner\n",
      "<class 'function'>\n"
     ]
    },
    {
     "data": {
      "text/plain": [
       "'AKASH ARYAKANTH IS NOW AT GIT'"
      ]
     },
     "execution_count": 4,
     "metadata": {},
     "output_type": "execute_result"
    }
   ],
   "source": [
    "upper_case('akash aryakanth is now at git')"
   ]
  },
  {
   "cell_type": "code",
   "execution_count": 117,
   "id": "9417a6a7",
   "metadata": {},
   "outputs": [],
   "source": [
    "def lower_case(string):\n",
    "    return string.lower()"
   ]
  },
  {
   "cell_type": "code",
   "execution_count": 118,
   "id": "dd505e80",
   "metadata": {},
   "outputs": [],
   "source": [
    "lower_case = outer(lower_case)#another way to decorate a function"
   ]
  },
  {
   "cell_type": "code",
   "execution_count": 119,
   "id": "dedfbc6e",
   "metadata": {},
   "outputs": [
    {
     "name": "stdout",
     "output_type": "stream",
     "text": [
      "within inner\n"
     ]
    },
    {
     "data": {
      "text/plain": [
       "'jai jawan jai kisaan'"
      ]
     },
     "execution_count": 119,
     "metadata": {},
     "output_type": "execute_result"
    }
   ],
   "source": [
    "lower_case(\"JAI JAWAN JAI KISAAN\")"
   ]
  },
  {
   "cell_type": "code",
   "execution_count": 99,
   "id": "6640581c",
   "metadata": {},
   "outputs": [],
   "source": [
    "#Implementing uppercase problem within decorator"
   ]
  },
  {
   "cell_type": "code",
   "execution_count": 120,
   "id": "23d0c163",
   "metadata": {},
   "outputs": [],
   "source": [
    "#EX:converting a lower case to uppercase within decorator "
   ]
  },
  {
   "cell_type": "code",
   "execution_count": 141,
   "id": "80b03057",
   "metadata": {},
   "outputs": [],
   "source": [
    "#Ruff\n",
    "def outer(fn,*args,**kwargs):\n",
    "    def fn(*args,**kwargs):\n",
    "        f,s=args\n",
    "        print('Within inner')\n",
    "        return f.upper(),s.upper()\n",
    "    return fn"
   ]
  },
  {
   "cell_type": "code",
   "execution_count": 142,
   "id": "acdbc3b4",
   "metadata": {},
   "outputs": [
    {
     "data": {
      "text/plain": [
       "<function __main__.outer(fn, *args, **kwargs)>"
      ]
     },
     "execution_count": 142,
     "metadata": {},
     "output_type": "execute_result"
    }
   ],
   "source": [
    "outer"
   ]
  },
  {
   "cell_type": "code",
   "execution_count": 143,
   "id": "845725f2",
   "metadata": {},
   "outputs": [
    {
     "data": {
      "text/plain": [
       "<function __main__.outer.<locals>.fn(*args, **kwargs)>"
      ]
     },
     "execution_count": 143,
     "metadata": {},
     "output_type": "execute_result"
    }
   ],
   "source": [
    "outer(\"akash\")"
   ]
  },
  {
   "cell_type": "code",
   "execution_count": 146,
   "id": "d161b774",
   "metadata": {},
   "outputs": [
    {
     "ename": "NameError",
     "evalue": "name 'fn' is not defined",
     "output_type": "error",
     "traceback": [
      "\u001b[1;31m---------------------------------------------------------------------------\u001b[0m",
      "\u001b[1;31mNameError\u001b[0m                                 Traceback (most recent call last)",
      "\u001b[1;32m~\\AppData\\Local\\Temp/ipykernel_21792/2092958407.py\u001b[0m in \u001b[0;36m<module>\u001b[1;34m\u001b[0m\n\u001b[1;32m----> 1\u001b[1;33m \u001b[0mouter\u001b[0m\u001b[1;33m(\u001b[0m\u001b[0mfn\u001b[0m\u001b[1;33m(\u001b[0m\u001b[1;33m)\u001b[0m\u001b[1;33m,\u001b[0m\u001b[1;34m\"akash\"\u001b[0m\u001b[1;33m,\u001b[0m\u001b[1;34m\"aryakanth\"\u001b[0m\u001b[1;33m)\u001b[0m\u001b[1;33m\u001b[0m\u001b[1;33m\u001b[0m\u001b[0m\n\u001b[0m",
      "\u001b[1;31mNameError\u001b[0m: name 'fn' is not defined"
     ]
    }
   ],
   "source": [
    "outer(fn(),\"akash\",\"aryakanth\")"
   ]
  },
  {
   "cell_type": "code",
   "execution_count": 24,
   "id": "e1085704",
   "metadata": {},
   "outputs": [],
   "source": [
    "#case2.Giving a function as an parameter to a function\n",
    "def fn(string):\n",
    "    print('hi')\n",
    "    print(string.upper())"
   ]
  },
  {
   "cell_type": "code",
   "execution_count": 25,
   "id": "1b795b1e",
   "metadata": {},
   "outputs": [],
   "source": [
    "def outer(fn,*args,**kwargs):\n",
    "    print('within in outer')\n",
    "    fn(*args,**kwargs)"
   ]
  },
  {
   "cell_type": "code",
   "execution_count": 26,
   "id": "48e88a19",
   "metadata": {},
   "outputs": [
    {
     "name": "stdout",
     "output_type": "stream",
     "text": [
      "within in outer\n",
      "hi\n",
      "AKASH\n"
     ]
    }
   ],
   "source": [
    "outer(fn,'akash')"
   ]
  },
  {
   "cell_type": "code",
   "execution_count": 28,
   "id": "ad320085",
   "metadata": {},
   "outputs": [],
   "source": [
    "#Ruff\n",
    "#case3\n",
    "def counter(fn):\n",
    "    f,s=counter.args\n",
    "    fn(f.upper(),s.upper)\n",
    "    def inner(fn,*args,**kwargs):\n",
    "        print('within inner')\n",
    "        return fn(*args,**kwargs)\n",
    "        \n",
    "    return inner"
   ]
  },
  {
   "cell_type": "code",
   "execution_count": 29,
   "id": "4fae2638",
   "metadata": {},
   "outputs": [
    {
     "data": {
      "text/plain": [
       "<function __main__.counter(fn)>"
      ]
     },
     "execution_count": 29,
     "metadata": {},
     "output_type": "execute_result"
    }
   ],
   "source": [
    "counter"
   ]
  },
  {
   "cell_type": "code",
   "execution_count": 30,
   "id": "1a2b52b3",
   "metadata": {},
   "outputs": [
    {
     "ename": "AttributeError",
     "evalue": "'function' object has no attribute 'args'",
     "output_type": "error",
     "traceback": [
      "\u001b[1;31m---------------------------------------------------------------------------\u001b[0m",
      "\u001b[1;31mAttributeError\u001b[0m                            Traceback (most recent call last)",
      "\u001b[1;32m~\\AppData\\Local\\Temp/ipykernel_29920/3738295740.py\u001b[0m in \u001b[0;36m<module>\u001b[1;34m\u001b[0m\n\u001b[1;32m----> 1\u001b[1;33m \u001b[0mcounter\u001b[0m\u001b[1;33m(\u001b[0m\u001b[0mfn\u001b[0m\u001b[1;33m)\u001b[0m\u001b[1;33m\u001b[0m\u001b[1;33m\u001b[0m\u001b[0m\n\u001b[0m",
      "\u001b[1;32m~\\AppData\\Local\\Temp/ipykernel_29920/3608412937.py\u001b[0m in \u001b[0;36mcounter\u001b[1;34m(fn)\u001b[0m\n\u001b[0;32m      1\u001b[0m \u001b[1;31m#case3\u001b[0m\u001b[1;33m\u001b[0m\u001b[1;33m\u001b[0m\u001b[0m\n\u001b[0;32m      2\u001b[0m \u001b[1;32mdef\u001b[0m \u001b[0mcounter\u001b[0m\u001b[1;33m(\u001b[0m\u001b[0mfn\u001b[0m\u001b[1;33m)\u001b[0m\u001b[1;33m:\u001b[0m\u001b[1;33m\u001b[0m\u001b[1;33m\u001b[0m\u001b[0m\n\u001b[1;32m----> 3\u001b[1;33m     \u001b[0mf\u001b[0m\u001b[1;33m,\u001b[0m\u001b[0ms\u001b[0m\u001b[1;33m=\u001b[0m\u001b[0mcounter\u001b[0m\u001b[1;33m.\u001b[0m\u001b[0margs\u001b[0m\u001b[1;33m\u001b[0m\u001b[1;33m\u001b[0m\u001b[0m\n\u001b[0m\u001b[0;32m      4\u001b[0m     \u001b[0mfn\u001b[0m\u001b[1;33m(\u001b[0m\u001b[0mf\u001b[0m\u001b[1;33m.\u001b[0m\u001b[0mupper\u001b[0m\u001b[1;33m(\u001b[0m\u001b[1;33m)\u001b[0m\u001b[1;33m,\u001b[0m\u001b[0ms\u001b[0m\u001b[1;33m.\u001b[0m\u001b[0mupper\u001b[0m\u001b[1;33m)\u001b[0m\u001b[1;33m\u001b[0m\u001b[1;33m\u001b[0m\u001b[0m\n\u001b[0;32m      5\u001b[0m     \u001b[1;32mdef\u001b[0m \u001b[0minner\u001b[0m\u001b[1;33m(\u001b[0m\u001b[0mfn\u001b[0m\u001b[1;33m,\u001b[0m\u001b[1;33m*\u001b[0m\u001b[0margs\u001b[0m\u001b[1;33m,\u001b[0m\u001b[1;33m**\u001b[0m\u001b[0mkwargs\u001b[0m\u001b[1;33m)\u001b[0m\u001b[1;33m:\u001b[0m\u001b[1;33m\u001b[0m\u001b[1;33m\u001b[0m\u001b[0m\n",
      "\u001b[1;31mAttributeError\u001b[0m: 'function' object has no attribute 'args'"
     ]
    }
   ],
   "source": [
    "counter(fn)"
   ]
  },
  {
   "cell_type": "code",
   "execution_count": 46,
   "id": "cd2f10fb",
   "metadata": {},
   "outputs": [],
   "source": [
    "def outer(fn):\n",
    "    def inner(*args,**kwargs):\n",
    "        f,s=args\n",
    "        print('within inner')\n",
    "        return fn(f.upper(),s.upper())\n",
    "    return inner"
   ]
  },
  {
   "cell_type": "code",
   "execution_count": null,
   "id": "c87a2228",
   "metadata": {},
   "outputs": [],
   "source": []
  },
  {
   "cell_type": "code",
   "execution_count": 47,
   "id": "e74f308a",
   "metadata": {},
   "outputs": [
    {
     "name": "stdout",
     "output_type": "stream",
     "text": [
      "within inner\n",
      "within inner\n",
      "within inner\n",
      "within inner\n",
      "within inner\n"
     ]
    },
    {
     "ename": "TypeError",
     "evalue": "fn() takes 1 positional argument but 2 were given",
     "output_type": "error",
     "traceback": [
      "\u001b[1;31m---------------------------------------------------------------------------\u001b[0m",
      "\u001b[1;31mTypeError\u001b[0m                                 Traceback (most recent call last)",
      "\u001b[1;32m~\\AppData\\Local\\Temp/ipykernel_29920/2875315568.py\u001b[0m in \u001b[0;36m<module>\u001b[1;34m\u001b[0m\n\u001b[1;32m----> 1\u001b[1;33m \u001b[0mfn\u001b[0m\u001b[1;33m(\u001b[0m\u001b[1;34m'akash'\u001b[0m\u001b[1;33m,\u001b[0m\u001b[1;34m'sai pallavi'\u001b[0m\u001b[1;33m)\u001b[0m\u001b[1;33m\u001b[0m\u001b[1;33m\u001b[0m\u001b[0m\n\u001b[0m",
      "\u001b[1;32m~\\AppData\\Local\\Temp/ipykernel_29920/1465466362.py\u001b[0m in \u001b[0;36minner\u001b[1;34m(*args, **kwargs)\u001b[0m\n\u001b[0;32m      3\u001b[0m         \u001b[0mf\u001b[0m\u001b[1;33m,\u001b[0m\u001b[0ms\u001b[0m\u001b[1;33m=\u001b[0m\u001b[0margs\u001b[0m\u001b[1;33m\u001b[0m\u001b[1;33m\u001b[0m\u001b[0m\n\u001b[0;32m      4\u001b[0m         \u001b[0mprint\u001b[0m\u001b[1;33m(\u001b[0m\u001b[1;34m'within inner'\u001b[0m\u001b[1;33m)\u001b[0m\u001b[1;33m\u001b[0m\u001b[1;33m\u001b[0m\u001b[0m\n\u001b[1;32m----> 5\u001b[1;33m         \u001b[1;32mreturn\u001b[0m \u001b[0mfn\u001b[0m\u001b[1;33m(\u001b[0m\u001b[0mf\u001b[0m\u001b[1;33m.\u001b[0m\u001b[0mupper\u001b[0m\u001b[1;33m(\u001b[0m\u001b[1;33m)\u001b[0m\u001b[1;33m,\u001b[0m\u001b[0ms\u001b[0m\u001b[1;33m.\u001b[0m\u001b[0mupper\u001b[0m\u001b[1;33m(\u001b[0m\u001b[1;33m)\u001b[0m\u001b[1;33m)\u001b[0m\u001b[1;33m\u001b[0m\u001b[1;33m\u001b[0m\u001b[0m\n\u001b[0m\u001b[0;32m      6\u001b[0m     \u001b[1;32mreturn\u001b[0m \u001b[0minner\u001b[0m\u001b[1;33m\u001b[0m\u001b[1;33m\u001b[0m\u001b[0m\n",
      "\u001b[1;32m~\\AppData\\Local\\Temp/ipykernel_29920/1465466362.py\u001b[0m in \u001b[0;36minner\u001b[1;34m(*args, **kwargs)\u001b[0m\n\u001b[0;32m      3\u001b[0m         \u001b[0mf\u001b[0m\u001b[1;33m,\u001b[0m\u001b[0ms\u001b[0m\u001b[1;33m=\u001b[0m\u001b[0margs\u001b[0m\u001b[1;33m\u001b[0m\u001b[1;33m\u001b[0m\u001b[0m\n\u001b[0;32m      4\u001b[0m         \u001b[0mprint\u001b[0m\u001b[1;33m(\u001b[0m\u001b[1;34m'within inner'\u001b[0m\u001b[1;33m)\u001b[0m\u001b[1;33m\u001b[0m\u001b[1;33m\u001b[0m\u001b[0m\n\u001b[1;32m----> 5\u001b[1;33m         \u001b[1;32mreturn\u001b[0m \u001b[0mfn\u001b[0m\u001b[1;33m(\u001b[0m\u001b[0mf\u001b[0m\u001b[1;33m.\u001b[0m\u001b[0mupper\u001b[0m\u001b[1;33m(\u001b[0m\u001b[1;33m)\u001b[0m\u001b[1;33m,\u001b[0m\u001b[0ms\u001b[0m\u001b[1;33m.\u001b[0m\u001b[0mupper\u001b[0m\u001b[1;33m(\u001b[0m\u001b[1;33m)\u001b[0m\u001b[1;33m)\u001b[0m\u001b[1;33m\u001b[0m\u001b[1;33m\u001b[0m\u001b[0m\n\u001b[0m\u001b[0;32m      6\u001b[0m     \u001b[1;32mreturn\u001b[0m \u001b[0minner\u001b[0m\u001b[1;33m\u001b[0m\u001b[1;33m\u001b[0m\u001b[0m\n",
      "\u001b[1;32m~\\AppData\\Local\\Temp/ipykernel_29920/1465466362.py\u001b[0m in \u001b[0;36minner\u001b[1;34m(*args, **kwargs)\u001b[0m\n\u001b[0;32m      3\u001b[0m         \u001b[0mf\u001b[0m\u001b[1;33m,\u001b[0m\u001b[0ms\u001b[0m\u001b[1;33m=\u001b[0m\u001b[0margs\u001b[0m\u001b[1;33m\u001b[0m\u001b[1;33m\u001b[0m\u001b[0m\n\u001b[0;32m      4\u001b[0m         \u001b[0mprint\u001b[0m\u001b[1;33m(\u001b[0m\u001b[1;34m'within inner'\u001b[0m\u001b[1;33m)\u001b[0m\u001b[1;33m\u001b[0m\u001b[1;33m\u001b[0m\u001b[0m\n\u001b[1;32m----> 5\u001b[1;33m         \u001b[1;32mreturn\u001b[0m \u001b[0mfn\u001b[0m\u001b[1;33m(\u001b[0m\u001b[0mf\u001b[0m\u001b[1;33m.\u001b[0m\u001b[0mupper\u001b[0m\u001b[1;33m(\u001b[0m\u001b[1;33m)\u001b[0m\u001b[1;33m,\u001b[0m\u001b[0ms\u001b[0m\u001b[1;33m.\u001b[0m\u001b[0mupper\u001b[0m\u001b[1;33m(\u001b[0m\u001b[1;33m)\u001b[0m\u001b[1;33m)\u001b[0m\u001b[1;33m\u001b[0m\u001b[1;33m\u001b[0m\u001b[0m\n\u001b[0m\u001b[0;32m      6\u001b[0m     \u001b[1;32mreturn\u001b[0m \u001b[0minner\u001b[0m\u001b[1;33m\u001b[0m\u001b[1;33m\u001b[0m\u001b[0m\n",
      "\u001b[1;32m~\\AppData\\Local\\Temp/ipykernel_29920/1465466362.py\u001b[0m in \u001b[0;36minner\u001b[1;34m(*args, **kwargs)\u001b[0m\n\u001b[0;32m      3\u001b[0m         \u001b[0mf\u001b[0m\u001b[1;33m,\u001b[0m\u001b[0ms\u001b[0m\u001b[1;33m=\u001b[0m\u001b[0margs\u001b[0m\u001b[1;33m\u001b[0m\u001b[1;33m\u001b[0m\u001b[0m\n\u001b[0;32m      4\u001b[0m         \u001b[0mprint\u001b[0m\u001b[1;33m(\u001b[0m\u001b[1;34m'within inner'\u001b[0m\u001b[1;33m)\u001b[0m\u001b[1;33m\u001b[0m\u001b[1;33m\u001b[0m\u001b[0m\n\u001b[1;32m----> 5\u001b[1;33m         \u001b[1;32mreturn\u001b[0m \u001b[0mfn\u001b[0m\u001b[1;33m(\u001b[0m\u001b[0mf\u001b[0m\u001b[1;33m.\u001b[0m\u001b[0mupper\u001b[0m\u001b[1;33m(\u001b[0m\u001b[1;33m)\u001b[0m\u001b[1;33m,\u001b[0m\u001b[0ms\u001b[0m\u001b[1;33m.\u001b[0m\u001b[0mupper\u001b[0m\u001b[1;33m(\u001b[0m\u001b[1;33m)\u001b[0m\u001b[1;33m)\u001b[0m\u001b[1;33m\u001b[0m\u001b[1;33m\u001b[0m\u001b[0m\n\u001b[0m\u001b[0;32m      6\u001b[0m     \u001b[1;32mreturn\u001b[0m \u001b[0minner\u001b[0m\u001b[1;33m\u001b[0m\u001b[1;33m\u001b[0m\u001b[0m\n",
      "\u001b[1;32m~\\AppData\\Local\\Temp/ipykernel_29920/1465466362.py\u001b[0m in \u001b[0;36minner\u001b[1;34m(*args, **kwargs)\u001b[0m\n\u001b[0;32m      3\u001b[0m         \u001b[0mf\u001b[0m\u001b[1;33m,\u001b[0m\u001b[0ms\u001b[0m\u001b[1;33m=\u001b[0m\u001b[0margs\u001b[0m\u001b[1;33m\u001b[0m\u001b[1;33m\u001b[0m\u001b[0m\n\u001b[0;32m      4\u001b[0m         \u001b[0mprint\u001b[0m\u001b[1;33m(\u001b[0m\u001b[1;34m'within inner'\u001b[0m\u001b[1;33m)\u001b[0m\u001b[1;33m\u001b[0m\u001b[1;33m\u001b[0m\u001b[0m\n\u001b[1;32m----> 5\u001b[1;33m         \u001b[1;32mreturn\u001b[0m \u001b[0mfn\u001b[0m\u001b[1;33m(\u001b[0m\u001b[0mf\u001b[0m\u001b[1;33m.\u001b[0m\u001b[0mupper\u001b[0m\u001b[1;33m(\u001b[0m\u001b[1;33m)\u001b[0m\u001b[1;33m,\u001b[0m\u001b[0ms\u001b[0m\u001b[1;33m.\u001b[0m\u001b[0mupper\u001b[0m\u001b[1;33m(\u001b[0m\u001b[1;33m)\u001b[0m\u001b[1;33m)\u001b[0m\u001b[1;33m\u001b[0m\u001b[1;33m\u001b[0m\u001b[0m\n\u001b[0m\u001b[0;32m      6\u001b[0m     \u001b[1;32mreturn\u001b[0m \u001b[0minner\u001b[0m\u001b[1;33m\u001b[0m\u001b[1;33m\u001b[0m\u001b[0m\n",
      "\u001b[1;31mTypeError\u001b[0m: fn() takes 1 positional argument but 2 were given"
     ]
    }
   ],
   "source": [
    "fn('akash','sai pallavi')"
   ]
  },
  {
   "cell_type": "code",
   "execution_count": 48,
   "id": "35a0e7fc",
   "metadata": {},
   "outputs": [],
   "source": [
    "#Armstrong"
   ]
  },
  {
   "cell_type": "code",
   "execution_count": 64,
   "id": "0e5b64cd",
   "metadata": {},
   "outputs": [],
   "source": [
    "def armstrong(num):\n",
    "    a = str(num)\n",
    "    print(a)\n",
    "    print(type(a))\n",
    "    l=[]\n",
    "    for i in a:\n",
    "        b=int(i)\n",
    "        l.append(b**3)\n",
    "    print(l)\n",
    "    c = sum(l)\n",
    "    print(c)\n",
    "    if c==num:\n",
    "        print('Given number is a armstrong number')\n",
    "    else:\n",
    "        print('It is not a armstrong number')"
   ]
  },
  {
   "cell_type": "code",
   "execution_count": 67,
   "id": "cc4e16e7",
   "metadata": {},
   "outputs": [
    {
     "name": "stdout",
     "output_type": "stream",
     "text": [
      "112\n",
      "<class 'str'>\n",
      "[1, 1, 8]\n",
      "10\n",
      "It is not a armstrong number\n"
     ]
    }
   ],
   "source": [
    "armstrong(112)"
   ]
  },
  {
   "cell_type": "code",
   "execution_count": 68,
   "id": "a73c4a62",
   "metadata": {},
   "outputs": [],
   "source": [
    "#number palindromes"
   ]
  },
  {
   "cell_type": "code",
   "execution_count": 73,
   "id": "4e7a861c",
   "metadata": {},
   "outputs": [],
   "source": [
    "def num_pal(seq_list):\n",
    "    pal_list=[]\n",
    "    for i in seq_list:\n",
    "        a=str(i)\n",
    "        if a==a[::-1]:\n",
    "            pal_list.append(int(a))\n",
    "    print(pal_list)\n",
    "    "
   ]
  },
  {
   "cell_type": "code",
   "execution_count": 75,
   "id": "25d761a4",
   "metadata": {},
   "outputs": [
    {
     "name": "stdout",
     "output_type": "stream",
     "text": [
      "[141, 121, 232, 1, 2, 33, 44, 454]\n"
     ]
    }
   ],
   "source": [
    "num_pal([141,121,232,1,2,33,44,454,443,234,4566])"
   ]
  },
  {
   "cell_type": "code",
   "execution_count": 76,
   "id": "a3391bb3",
   "metadata": {},
   "outputs": [],
   "source": [
    "#Print capital indexes"
   ]
  },
  {
   "cell_type": "code",
   "execution_count": 79,
   "id": "4c9066f9",
   "metadata": {},
   "outputs": [],
   "source": [
    "def cap_index(string):\n",
    "    res=[i for i,v in enumerate(string) if v.isupper()]\n",
    "    print(res)"
   ]
  },
  {
   "cell_type": "code",
   "execution_count": 80,
   "id": "0b9b5a57",
   "metadata": {},
   "outputs": [
    {
     "name": "stdout",
     "output_type": "stream",
     "text": [
      "[0, 2, 6, 8, 10, 11, 12]\n"
     ]
    }
   ],
   "source": [
    "cap_index(\"HeLlo HoW ARE you\")"
   ]
  },
  {
   "cell_type": "code",
   "execution_count": 81,
   "id": "5bddecdf",
   "metadata": {},
   "outputs": [],
   "source": [
    "#Lower indexes"
   ]
  },
  {
   "cell_type": "code",
   "execution_count": 84,
   "id": "dd445ebf",
   "metadata": {},
   "outputs": [],
   "source": [
    "def low_index(string):\n",
    "    res=[i for i,v in enumerate(string) if v.islower()]\n",
    "    print(res)"
   ]
  },
  {
   "cell_type": "code",
   "execution_count": 85,
   "id": "291b7bce",
   "metadata": {},
   "outputs": [
    {
     "name": "stdout",
     "output_type": "stream",
     "text": [
      "[1, 3, 4, 7, 14, 15, 16]\n"
     ]
    }
   ],
   "source": [
    "low_index(\"HeLlo HoW ARE you\")"
   ]
  },
  {
   "cell_type": "code",
   "execution_count": 90,
   "id": "49d63189",
   "metadata": {},
   "outputs": [],
   "source": [
    "#Patterns"
   ]
  },
  {
   "cell_type": "code",
   "execution_count": 91,
   "id": "0c41cd67",
   "metadata": {},
   "outputs": [
    {
     "name": "stdout",
     "output_type": "stream",
     "text": [
      "\n",
      "1\t\n",
      "2\t2\t\n",
      "3\t3\t3\t\n",
      "4\t4\t4\t4\t\n",
      "5\t5\t5\t5\t5\t\n"
     ]
    }
   ],
   "source": [
    "rows = 6\n",
    "for i in range(rows):\n",
    "    for j in range(i):\n",
    "        print(i,end='\\t')\n",
    "    print('')"
   ]
  },
  {
   "cell_type": "code",
   "execution_count": 1,
   "id": "2aef66e2",
   "metadata": {},
   "outputs": [],
   "source": [
    "#max and min "
   ]
  },
  {
   "cell_type": "code",
   "execution_count": 11,
   "id": "43066a45",
   "metadata": {},
   "outputs": [],
   "source": [
    "def my_func(seq_list):\n",
    "    max=seq_list[0]\n",
    "    min=seq_list[0]\n",
    "    for i in seq_list:\n",
    "        if i>max:\n",
    "            max=i\n",
    "    for j in seq_list:\n",
    "        if j<min:\n",
    "            min=j\n",
    "    print(f'The maximum number is {max}')\n",
    "    print(f'The minimum number is {min}')"
   ]
  },
  {
   "cell_type": "code",
   "execution_count": 12,
   "id": "311bc29e",
   "metadata": {},
   "outputs": [
    {
     "name": "stdout",
     "output_type": "stream",
     "text": [
      "The maximum number is 234\n",
      "The minimum number is -1\n"
     ]
    }
   ],
   "source": [
    "my_func([34,234,1,0,-1])"
   ]
  },
  {
   "cell_type": "code",
   "execution_count": 16,
   "id": "78cbb211",
   "metadata": {},
   "outputs": [],
   "source": [
    "#to find the length of list using for iteration\n",
    "def my_func(seq_list):\n",
    "    count=0\n",
    "    print(len(seq_list))\n",
    "    for i in seq_list:\n",
    "        count+=1\n",
    "    print(count)"
   ]
  },
  {
   "cell_type": "code",
   "execution_count": 17,
   "id": "43d77319",
   "metadata": {},
   "outputs": [
    {
     "name": "stdout",
     "output_type": "stream",
     "text": [
      "8\n",
      "8\n"
     ]
    }
   ],
   "source": [
    "my_func([2,-3,1,55,76,4,3,2])"
   ]
  },
  {
   "cell_type": "code",
   "execution_count": 18,
   "id": "f3f58694",
   "metadata": {},
   "outputs": [],
   "source": [
    "#To find the length of list using .join() and count"
   ]
  },
  {
   "cell_type": "code",
   "execution_count": 43,
   "id": "934aee3b",
   "metadata": {},
   "outputs": [],
   "source": [
    "def func(seq_list):\n",
    "    res='X'.join(seq_list)\n",
    "    print(res.count('X')+1)"
   ]
  },
  {
   "cell_type": "code",
   "execution_count": 44,
   "id": "f2965d37",
   "metadata": {},
   "outputs": [
    {
     "name": "stdout",
     "output_type": "stream",
     "text": [
      "8\n"
     ]
    }
   ],
   "source": [
    "func(['2','-3','1','55','76','4','3','2'])"
   ]
  },
  {
   "cell_type": "code",
   "execution_count": 23,
   "id": "b31687b6",
   "metadata": {},
   "outputs": [],
   "source": [
    "l=[1,2,3,3,3]"
   ]
  },
  {
   "cell_type": "code",
   "execution_count": 24,
   "id": "dd16fcfd",
   "metadata": {},
   "outputs": [
    {
     "data": {
      "text/plain": [
       "3"
      ]
     },
     "execution_count": 24,
     "metadata": {},
     "output_type": "execute_result"
    }
   ],
   "source": [
    "l.count(3)"
   ]
  },
  {
   "cell_type": "code",
   "execution_count": 31,
   "id": "f526fd48",
   "metadata": {},
   "outputs": [],
   "source": [
    "def addition_function(a,b):\n",
    "    return a+b"
   ]
  },
  {
   "cell_type": "code",
   "execution_count": 34,
   "id": "7fbc641c",
   "metadata": {},
   "outputs": [
    {
     "data": {
      "text/plain": [
       "5456856.444478976"
      ]
     },
     "execution_count": 34,
     "metadata": {},
     "output_type": "execute_result"
    }
   ],
   "source": [
    "addition_function(4.4444789756,5456852)"
   ]
  },
  {
   "cell_type": "code",
   "execution_count": 35,
   "id": "d8164966",
   "metadata": {},
   "outputs": [],
   "source": [
    "def prime(number):\n",
    "    pass"
   ]
  },
  {
   "cell_type": "code",
   "execution_count": 37,
   "id": "3af37c87",
   "metadata": {},
   "outputs": [
    {
     "data": {
      "text/plain": [
       "'1-2-3'"
      ]
     },
     "execution_count": 37,
     "metadata": {},
     "output_type": "execute_result"
    }
   ],
   "source": [
    "l=['1','2','3']\n",
    "'-'.join(l)"
   ]
  },
  {
   "cell_type": "code",
   "execution_count": 48,
   "id": "b409ddba",
   "metadata": {},
   "outputs": [],
   "source": [
    "def func(string):\n",
    "    res='X'.join(string)\n",
    "    print(res.count('X')+1)"
   ]
  },
  {
   "cell_type": "code",
   "execution_count": 50,
   "id": "ee4433ca",
   "metadata": {},
   "outputs": [
    {
     "name": "stdout",
     "output_type": "stream",
     "text": [
      "15\n"
     ]
    }
   ],
   "source": [
    "func(\"AkashAryakanthi\")"
   ]
  },
  {
   "cell_type": "code",
   "execution_count": 1,
   "id": "fc27db6b",
   "metadata": {},
   "outputs": [],
   "source": [
    "#To convert lower case to uppercase within decorator fn."
   ]
  },
  {
   "cell_type": "code",
   "execution_count": 125,
   "id": "946d66d4",
   "metadata": {},
   "outputs": [],
   "source": [
    "#case1).\n",
    "def change(seq):\n",
    "    if type(seq)==str:\n",
    "        return seq.upper()"
   ]
  },
  {
   "cell_type": "code",
   "execution_count": 126,
   "id": "218c7d76",
   "metadata": {},
   "outputs": [
    {
     "data": {
      "text/plain": [
       "'AKASH'"
      ]
     },
     "execution_count": 126,
     "metadata": {},
     "output_type": "execute_result"
    }
   ],
   "source": [
    "change(\"akash\")"
   ]
  },
  {
   "cell_type": "code",
   "execution_count": 127,
   "id": "4d4e0c6e",
   "metadata": {},
   "outputs": [],
   "source": [
    "def outer(fn):\n",
    "    def inner(*args,**kwargs):\n",
    "        return fn(*args,**kwargs)\n",
    "    return inner"
   ]
  },
  {
   "cell_type": "code",
   "execution_count": 128,
   "id": "bb592fc9",
   "metadata": {},
   "outputs": [],
   "source": [
    "change=outer(change)"
   ]
  },
  {
   "cell_type": "code",
   "execution_count": 129,
   "id": "f146cc47",
   "metadata": {},
   "outputs": [
    {
     "data": {
      "text/plain": [
       "(<cell at 0x000001F17334B580: function object at 0x000001F17334DB80>,)"
      ]
     },
     "execution_count": 129,
     "metadata": {},
     "output_type": "execute_result"
    }
   ],
   "source": [
    "change.__closure__"
   ]
  },
  {
   "cell_type": "code",
   "execution_count": 130,
   "id": "4b75b985",
   "metadata": {},
   "outputs": [
    {
     "data": {
      "text/plain": [
       "'AKASH'"
      ]
     },
     "execution_count": 130,
     "metadata": {},
     "output_type": "execute_result"
    }
   ],
   "source": [
    "change(\"akash\")"
   ]
  },
  {
   "cell_type": "code",
   "execution_count": 131,
   "id": "37932a39",
   "metadata": {},
   "outputs": [
    {
     "name": "stdout",
     "output_type": "stream",
     "text": [
      "AKASH\n"
     ]
    }
   ],
   "source": [
    "print(change(\"akash\"))"
   ]
  },
  {
   "cell_type": "code",
   "execution_count": 43,
   "id": "e5e09433",
   "metadata": {},
   "outputs": [],
   "source": [
    "#case2).\n",
    "def change(seq):\n",
    "    if type(seq)==str:\n",
    "        print(seq.upper())"
   ]
  },
  {
   "cell_type": "code",
   "execution_count": 45,
   "id": "5cb1801f",
   "metadata": {},
   "outputs": [
    {
     "name": "stdout",
     "output_type": "stream",
     "text": [
      "AKASH\n"
     ]
    }
   ],
   "source": [
    "change(\"akash\")"
   ]
  },
  {
   "cell_type": "code",
   "execution_count": 46,
   "id": "1286951b",
   "metadata": {},
   "outputs": [],
   "source": [
    "def outer(fn):\n",
    "    def inner(*args,**kwargs):\n",
    "        fn(*args,**kwargs)\n",
    "    return inner"
   ]
  },
  {
   "cell_type": "code",
   "execution_count": 47,
   "id": "2812ec00",
   "metadata": {},
   "outputs": [],
   "source": [
    "change=outer(change)"
   ]
  },
  {
   "cell_type": "code",
   "execution_count": 48,
   "id": "108326b0",
   "metadata": {},
   "outputs": [
    {
     "data": {
      "text/plain": [
       "(<cell at 0x000001F173241DC0: function object at 0x000001F17334D040>,)"
      ]
     },
     "execution_count": 48,
     "metadata": {},
     "output_type": "execute_result"
    }
   ],
   "source": [
    "change.__closure__"
   ]
  },
  {
   "cell_type": "code",
   "execution_count": 49,
   "id": "d73cc022",
   "metadata": {},
   "outputs": [
    {
     "name": "stdout",
     "output_type": "stream",
     "text": [
      "AKASH\n"
     ]
    }
   ],
   "source": [
    "change(\"akash\")"
   ]
  },
  {
   "cell_type": "code",
   "execution_count": 57,
   "id": "60a0cb24",
   "metadata": {},
   "outputs": [],
   "source": [
    "#case3->Implementing the functionality of a function within decorator itself"
   ]
  },
  {
   "cell_type": "code",
   "execution_count": 120,
   "id": "31dbcb05",
   "metadata": {},
   "outputs": [],
   "source": [
    "def outer(fn):\n",
    "    def inner(*args,**kwargs):\n",
    "        print(f'{outer.__name__}->Iam Here to decorate you here you go')\n",
    "        a,b=args\n",
    "        return fn(a.upper(),b.upper())\n",
    "    return inner"
   ]
  },
  {
   "cell_type": "code",
   "execution_count": 121,
   "id": "ccc19bb3",
   "metadata": {},
   "outputs": [],
   "source": [
    "def func(x,y):\n",
    "    print(x,y)\n",
    "    print(f'{func.__name__}->Hey Thanks for decorating me with the upper()')\n",
    "    print(f'{outer.__name__}->Infact i converted you into uppercase)')"
   ]
  },
  {
   "cell_type": "code",
   "execution_count": 122,
   "id": "c063cf57",
   "metadata": {},
   "outputs": [],
   "source": [
    "func = outer(func)"
   ]
  },
  {
   "cell_type": "code",
   "execution_count": 123,
   "id": "80b5895e",
   "metadata": {},
   "outputs": [
    {
     "data": {
      "text/plain": [
       "(<cell at 0x000001F17334BE50: function object at 0x000001F17334DA60>,)"
      ]
     },
     "execution_count": 123,
     "metadata": {},
     "output_type": "execute_result"
    }
   ],
   "source": [
    "func.__closure__"
   ]
  },
  {
   "cell_type": "code",
   "execution_count": 124,
   "id": "db48b3a8",
   "metadata": {},
   "outputs": [
    {
     "name": "stdout",
     "output_type": "stream",
     "text": [
      "outer->Iam Here to decorate you here you go\n",
      "AKASH ARYA\n",
      "inner->Hey Thanks for decorating me with the upper()\n",
      "outer->Infact i converted you into uppercase)\n"
     ]
    }
   ],
   "source": [
    "func('akash','arya')"
   ]
  },
  {
   "cell_type": "code",
   "execution_count": 116,
   "id": "c5ab7394",
   "metadata": {},
   "outputs": [],
   "source": [
    "#Data serialization\n"
   ]
  },
  {
   "cell_type": "code",
   "execution_count": 24,
   "id": "0717e176",
   "metadata": {},
   "outputs": [],
   "source": [
    "#Another example for closure\n",
    "#case1)returning inner\n",
    "def outer():\n",
    "    name = 'Akash'\n",
    "    age = '24'\n",
    "    def inner():\n",
    "        nonlocal name\n",
    "        nonlocal age\n",
    "        height = '5feet12inches'\n",
    "        print(f'Hi iam {name} and iam {age} years old This is my height {height}')\n",
    "        \n",
    "    return inner"
   ]
  },
  {
   "cell_type": "code",
   "execution_count": 25,
   "id": "fa7d1f83",
   "metadata": {},
   "outputs": [],
   "source": [
    "my_closure = outer()"
   ]
  },
  {
   "cell_type": "code",
   "execution_count": 26,
   "id": "b59d3621",
   "metadata": {},
   "outputs": [
    {
     "data": {
      "text/plain": [
       "(<cell at 0x000001C6F01E28B0: str object at 0x000001C6F02207B0>,\n",
       " <cell at 0x000001C6F01E25E0: str object at 0x000001C6F01DF4F0>)"
      ]
     },
     "execution_count": 26,
     "metadata": {},
     "output_type": "execute_result"
    }
   ],
   "source": [
    "my_closure.__closure__"
   ]
  },
  {
   "cell_type": "code",
   "execution_count": 27,
   "id": "56fcae33",
   "metadata": {},
   "outputs": [
    {
     "data": {
      "text/plain": [
       "('age', 'name')"
      ]
     },
     "execution_count": 27,
     "metadata": {},
     "output_type": "execute_result"
    }
   ],
   "source": [
    "my_closure.__code__.co_freevars"
   ]
  },
  {
   "cell_type": "code",
   "execution_count": 28,
   "id": "ef2b369f",
   "metadata": {},
   "outputs": [
    {
     "data": {
      "text/plain": [
       "{}"
      ]
     },
     "execution_count": 28,
     "metadata": {},
     "output_type": "execute_result"
    }
   ],
   "source": [
    "outer.__dict__"
   ]
  },
  {
   "cell_type": "code",
   "execution_count": null,
   "id": "f763cacb",
   "metadata": {},
   "outputs": [],
   "source": []
  },
  {
   "cell_type": "code",
   "execution_count": 37,
   "id": "b15754cf",
   "metadata": {},
   "outputs": [],
   "source": [
    "#case2)calling inner() to execute print stmnt but closure will not be there\n",
    "def outer():\n",
    "    name = 'Akash'\n",
    "    age = '24'\n",
    "    def inner():\n",
    "        nonlocal name\n",
    "        nonlocal age\n",
    "        height = '5feet12inches'\n",
    "        print(f'Hi iam {name} and iam {age} years old This is my height {height}')\n",
    "        \n",
    "    inner()"
   ]
  },
  {
   "cell_type": "code",
   "execution_count": 38,
   "id": "0bd72b0f",
   "metadata": {},
   "outputs": [
    {
     "name": "stdout",
     "output_type": "stream",
     "text": [
      "Hi iam Akash and iam 24 years old This is my height 5feet12inches\n"
     ]
    }
   ],
   "source": [
    "my_closure = outer()"
   ]
  },
  {
   "cell_type": "code",
   "execution_count": 39,
   "id": "b6b24f68",
   "metadata": {},
   "outputs": [
    {
     "name": "stdout",
     "output_type": "stream",
     "text": [
      "Hi iam Akash and iam 24 years old This is my height 5feet12inches\n"
     ]
    }
   ],
   "source": [
    "outer()"
   ]
  },
  {
   "cell_type": "code",
   "execution_count": 40,
   "id": "387bd5a0",
   "metadata": {},
   "outputs": [
    {
     "ename": "AttributeError",
     "evalue": "'NoneType' object has no attribute '__closure__'",
     "output_type": "error",
     "traceback": [
      "\u001b[1;31m---------------------------------------------------------------------------\u001b[0m",
      "\u001b[1;31mAttributeError\u001b[0m                            Traceback (most recent call last)",
      "\u001b[1;32m~\\AppData\\Local\\Temp/ipykernel_32676/856394432.py\u001b[0m in \u001b[0;36m<module>\u001b[1;34m\u001b[0m\n\u001b[1;32m----> 1\u001b[1;33m \u001b[0mmy_closure\u001b[0m\u001b[1;33m.\u001b[0m\u001b[0m__closure__\u001b[0m\u001b[1;33m\u001b[0m\u001b[1;33m\u001b[0m\u001b[0m\n\u001b[0m",
      "\u001b[1;31mAttributeError\u001b[0m: 'NoneType' object has no attribute '__closure__'"
     ]
    }
   ],
   "source": [
    "my_closure.__closure__"
   ]
  },
  {
   "cell_type": "code",
   "execution_count": 41,
   "id": "38917824",
   "metadata": {},
   "outputs": [
    {
     "ename": "AttributeError",
     "evalue": "'NoneType' object has no attribute '__code__'",
     "output_type": "error",
     "traceback": [
      "\u001b[1;31m---------------------------------------------------------------------------\u001b[0m",
      "\u001b[1;31mAttributeError\u001b[0m                            Traceback (most recent call last)",
      "\u001b[1;32m~\\AppData\\Local\\Temp/ipykernel_32676/2051312988.py\u001b[0m in \u001b[0;36m<module>\u001b[1;34m\u001b[0m\n\u001b[1;32m----> 1\u001b[1;33m \u001b[0mmy_closure\u001b[0m\u001b[1;33m.\u001b[0m\u001b[0m__code__\u001b[0m\u001b[1;33m.\u001b[0m\u001b[0mco_freevars\u001b[0m\u001b[1;33m\u001b[0m\u001b[1;33m\u001b[0m\u001b[0m\n\u001b[0m",
      "\u001b[1;31mAttributeError\u001b[0m: 'NoneType' object has no attribute '__code__'"
     ]
    }
   ],
   "source": [
    "my_closure.__code__.co_freevars"
   ]
  },
  {
   "cell_type": "code",
   "execution_count": 22,
   "id": "109784c5",
   "metadata": {},
   "outputs": [
    {
     "ename": "AttributeError",
     "evalue": "'NoneType' object has no attribute '__dict__'",
     "output_type": "error",
     "traceback": [
      "\u001b[1;31m---------------------------------------------------------------------------\u001b[0m",
      "\u001b[1;31mAttributeError\u001b[0m                            Traceback (most recent call last)",
      "\u001b[1;32m~\\AppData\\Local\\Temp/ipykernel_32676/357002193.py\u001b[0m in \u001b[0;36m<module>\u001b[1;34m\u001b[0m\n\u001b[1;32m----> 1\u001b[1;33m \u001b[0mmy_closure\u001b[0m\u001b[1;33m.\u001b[0m\u001b[0m__dict__\u001b[0m\u001b[1;33m\u001b[0m\u001b[1;33m\u001b[0m\u001b[0m\n\u001b[0m",
      "\u001b[1;31mAttributeError\u001b[0m: 'NoneType' object has no attribute '__dict__'"
     ]
    }
   ],
   "source": [
    "my_closure.__dict__"
   ]
  },
  {
   "cell_type": "code",
   "execution_count": 23,
   "id": "3652ba61",
   "metadata": {},
   "outputs": [
    {
     "data": {
      "text/plain": [
       "{}"
      ]
     },
     "execution_count": 23,
     "metadata": {},
     "output_type": "execute_result"
    }
   ],
   "source": [
    "outer.__dict__"
   ]
  },
  {
   "cell_type": "code",
   "execution_count": 29,
   "id": "3ef4196b",
   "metadata": {},
   "outputs": [
    {
     "ename": "NameError",
     "evalue": "name 'inner' is not defined",
     "output_type": "error",
     "traceback": [
      "\u001b[1;31m---------------------------------------------------------------------------\u001b[0m",
      "\u001b[1;31mNameError\u001b[0m                                 Traceback (most recent call last)",
      "\u001b[1;32m~\\AppData\\Local\\Temp/ipykernel_32676/1563232693.py\u001b[0m in \u001b[0;36m<module>\u001b[1;34m\u001b[0m\n\u001b[1;32m----> 1\u001b[1;33m \u001b[0minner\u001b[0m\u001b[1;33m.\u001b[0m\u001b[0m__dict__\u001b[0m\u001b[1;33m\u001b[0m\u001b[1;33m\u001b[0m\u001b[0m\n\u001b[0m",
      "\u001b[1;31mNameError\u001b[0m: name 'inner' is not defined"
     ]
    }
   ],
   "source": [
    "inner.__dict__"
   ]
  },
  {
   "cell_type": "code",
   "execution_count": null,
   "id": "cb5881cd",
   "metadata": {},
   "outputs": [],
   "source": []
  }
 ],
 "metadata": {
  "kernelspec": {
   "display_name": "Python 3 (ipykernel)",
   "language": "python",
   "name": "python3"
  },
  "language_info": {
   "codemirror_mode": {
    "name": "ipython",
    "version": 3
   },
   "file_extension": ".py",
   "mimetype": "text/x-python",
   "name": "python",
   "nbconvert_exporter": "python",
   "pygments_lexer": "ipython3",
   "version": "3.9.7"
  }
 },
 "nbformat": 4,
 "nbformat_minor": 5
}
